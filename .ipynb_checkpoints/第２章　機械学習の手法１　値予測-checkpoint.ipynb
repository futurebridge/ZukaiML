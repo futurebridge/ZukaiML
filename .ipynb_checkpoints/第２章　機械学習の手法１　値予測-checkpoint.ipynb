{
 "cells": [
  {
   "cell_type": "code",
   "execution_count": 9,
   "metadata": {
    "collapsed": true
   },
   "outputs": [],
   "source": [
    "import pandas as pd\n",
    "#身長と体重のデータを読み込む\n",
    "children = pd.read_csv(\"children.csv\",encoding=\"SHIFT-JIS\")\n"
   ]
  },
  {
   "cell_type": "code",
   "execution_count": 10,
   "metadata": {},
   "outputs": [
    {
     "data": {
      "text/html": [
       "<div>\n",
       "<style>\n",
       "    .dataframe thead tr:only-child th {\n",
       "        text-align: right;\n",
       "    }\n",
       "\n",
       "    .dataframe thead th {\n",
       "        text-align: left;\n",
       "    }\n",
       "\n",
       "    .dataframe tbody tr th {\n",
       "        vertical-align: top;\n",
       "    }\n",
       "</style>\n",
       "<table border=\"1\" class=\"dataframe\">\n",
       "  <thead>\n",
       "    <tr style=\"text-align: right;\">\n",
       "      <th></th>\n",
       "      <th>年齢</th>\n",
       "      <th>身長</th>\n",
       "    </tr>\n",
       "  </thead>\n",
       "  <tbody>\n",
       "    <tr>\n",
       "      <th>0</th>\n",
       "      <td>4.47</td>\n",
       "      <td>1022</td>\n",
       "    </tr>\n",
       "    <tr>\n",
       "      <th>1</th>\n",
       "      <td>2.11</td>\n",
       "      <td>835</td>\n",
       "    </tr>\n",
       "    <tr>\n",
       "      <th>2</th>\n",
       "      <td>3.56</td>\n",
       "      <td>958</td>\n",
       "    </tr>\n",
       "    <tr>\n",
       "      <th>3</th>\n",
       "      <td>2.91</td>\n",
       "      <td>909</td>\n",
       "    </tr>\n",
       "    <tr>\n",
       "      <th>4</th>\n",
       "      <td>4.25</td>\n",
       "      <td>1044</td>\n",
       "    </tr>\n",
       "    <tr>\n",
       "      <th>5</th>\n",
       "      <td>3.93</td>\n",
       "      <td>1023</td>\n",
       "    </tr>\n",
       "    <tr>\n",
       "      <th>6</th>\n",
       "      <td>4.20</td>\n",
       "      <td>997</td>\n",
       "    </tr>\n",
       "    <tr>\n",
       "      <th>7</th>\n",
       "      <td>3.99</td>\n",
       "      <td>1033</td>\n",
       "    </tr>\n",
       "    <tr>\n",
       "      <th>8</th>\n",
       "      <td>4.13</td>\n",
       "      <td>1035</td>\n",
       "    </tr>\n",
       "    <tr>\n",
       "      <th>9</th>\n",
       "      <td>4.33</td>\n",
       "      <td>1057</td>\n",
       "    </tr>\n",
       "    <tr>\n",
       "      <th>10</th>\n",
       "      <td>2.32</td>\n",
       "      <td>877</td>\n",
       "    </tr>\n",
       "    <tr>\n",
       "      <th>11</th>\n",
       "      <td>2.37</td>\n",
       "      <td>851</td>\n",
       "    </tr>\n",
       "    <tr>\n",
       "      <th>12</th>\n",
       "      <td>2.17</td>\n",
       "      <td>879</td>\n",
       "    </tr>\n",
       "    <tr>\n",
       "      <th>13</th>\n",
       "      <td>2.56</td>\n",
       "      <td>881</td>\n",
       "    </tr>\n",
       "    <tr>\n",
       "      <th>14</th>\n",
       "      <td>2.38</td>\n",
       "      <td>912</td>\n",
       "    </tr>\n",
       "  </tbody>\n",
       "</table>\n",
       "</div>"
      ],
      "text/plain": [
       "      年齢    身長\n",
       "0   4.47  1022\n",
       "1   2.11   835\n",
       "2   3.56   958\n",
       "3   2.91   909\n",
       "4   4.25  1044\n",
       "5   3.93  1023\n",
       "6   4.20   997\n",
       "7   3.99  1033\n",
       "8   4.13  1035\n",
       "9   4.33  1057\n",
       "10  2.32   877\n",
       "11  2.37   851\n",
       "12  2.17   879\n",
       "13  2.56   881\n",
       "14  2.38   912"
      ]
     },
     "execution_count": 10,
     "metadata": {},
     "output_type": "execute_result"
    }
   ],
   "source": [
    "#読み込んだデータの表示\n",
    "children"
   ]
  },
  {
   "cell_type": "code",
   "execution_count": 12,
   "metadata": {},
   "outputs": [
    {
     "name": "stdout",
     "output_type": "stream",
     "text": [
      "3.312 954.2\n"
     ]
    }
   ],
   "source": [
    "import numpy as np\n",
    "\n",
    "#x,yの平均を求める\n",
    "x,y = np.mean(children)\n",
    "print (x,y)\n",
    "\n"
   ]
  },
  {
   "cell_type": "code",
   "execution_count": 13,
   "metadata": {},
   "outputs": [
    {
     "name": "stdout",
     "output_type": "stream",
     "text": [
      "0 年齢 4.47 身長 1022 78.5124\n",
      "1 年齢 2.11 身長 835 221.7908\n",
      "2 年齢 3.56 身長 958 222.7332\n",
      "3 年齢 2.91 身長 909 240.9036\n",
      "4 年齢 4.25 身長 1044 325.136\n",
      "5 年齢 3.93 身長 1023 367.6544\n",
      "6 年齢 4.2 身長 997 405.6608\n",
      "7 年齢 3.99 身長 1033 459.0872\n",
      "8 年齢 4.13 身長 1035 525.1816\n",
      "9 年齢 4.33 身長 1057 629.832\n",
      "10 年齢 2.32 身長 877 706.4144\n",
      "11 年齢 2.37 身長 851 803.6288\n",
      "12 年齢 2.17 身長 879 889.5072\n",
      "13 年齢 2.56 身長 881 944.5536\n",
      "14 年齢 2.38 身長 912 983.884\n",
      "共分散: 65.5922666667\n"
     ]
    }
   ],
   "source": [
    "#共分散を求める\n",
    "#データ個数分だけ (x-x平均)x(y-y平均)を繰り返す\n",
    "sum=0\n",
    "for i in range(0,len(children)):\n",
    "  sum += ((children[\"年齢\"][i]-x)*(children[\"身長\"][i]-y))\n",
    "  print(i,\"年齢\",children[\"年齢\"][i],\"身長\",children[\"身長\"][i],sum)\n",
    "\n",
    "#データ個数で割った値を返す\n",
    "cov_a = sum/len(children)\n",
    "\n",
    "print (\"共分散:\",cov_a)\n"
   ]
  },
  {
   "cell_type": "code",
   "execution_count": 14,
   "metadata": {},
   "outputs": [
    {
     "name": "stdout",
     "output_type": "stream",
     "text": [
      "相関係数: 0.963024154927\n"
     ]
    }
   ],
   "source": [
    "\n",
    "#年齢と身長の標準偏差を求める\n",
    "a_std,b_std=np.std(children)\n",
    "\n",
    "#相関係数を求める\n",
    "#相関係数 = (共分散)/(身長の標準偏差x年齢の標準偏差)\n",
    "\n",
    "print (\"相関係数:\",cov_a/(a_std*b_std))\n",
    "\n"
   ]
  },
  {
   "cell_type": "code",
   "execution_count": 15,
   "metadata": {},
   "outputs": [
    {
     "name": "stdout",
     "output_type": "stream",
     "text": [
      "傾きa 83.1401617706 切片b 678.839784216\n"
     ]
    }
   ],
   "source": [
    "#最小二乗法による傾きa と　切片bを求める\n",
    "\n",
    "#分散を求める\n",
    "a_var,b_var = np.var(children)\n",
    "\n",
    "#傾きa = 共分散/分散\n",
    "a = cov_a/a_var\n",
    "\n",
    "#切片 b= y平均 - a x x平均\n",
    "b = y - a * x\n",
    "\n",
    "print (\"傾きa\",a, \"切片b\",b)\n"
   ]
  },
  {
   "cell_type": "code",
   "execution_count": 16,
   "metadata": {},
   "outputs": [
    {
     "name": "stderr",
     "output_type": "stream",
     "text": [
      "C:\\Users\\kengo\\Anaconda3\\lib\\site-packages\\statsmodels\\compat\\pandas.py:56: FutureWarning: The pandas.core.datetools module is deprecated and will be removed in a future version. Please use the pandas.tseries module instead.\n",
      "  from pandas.core import datetools\n",
      "C:\\Users\\kengo\\Anaconda3\\lib\\site-packages\\scipy\\stats\\stats.py:1334: UserWarning: kurtosistest only valid for n>=20 ... continuing anyway, n=15\n",
      "  \"anyway, n=%i\" % int(n))\n"
     ]
    },
    {
     "data": {
      "text/html": [
       "<table class=\"simpletable\">\n",
       "<caption>OLS Regression Results</caption>\n",
       "<tr>\n",
       "  <th>Dep. Variable:</th>           <td>身長</td>        <th>  R-squared:         </th> <td>   0.927</td>\n",
       "</tr>\n",
       "<tr>\n",
       "  <th>Model:</th>                   <td>OLS</td>       <th>  Adj. R-squared:    </th> <td>   0.922</td>\n",
       "</tr>\n",
       "<tr>\n",
       "  <th>Method:</th>             <td>Least Squares</td>  <th>  F-statistic:       </th> <td>   166.1</td>\n",
       "</tr>\n",
       "<tr>\n",
       "  <th>Date:</th>             <td>Fri, 12 Apr 2019</td> <th>  Prob (F-statistic):</th> <td>8.84e-09</td>\n",
       "</tr>\n",
       "<tr>\n",
       "  <th>Time:</th>                 <td>11:07:48</td>     <th>  Log-Likelihood:    </th> <td> -66.707</td>\n",
       "</tr>\n",
       "<tr>\n",
       "  <th>No. Observations:</th>      <td>    15</td>      <th>  AIC:               </th> <td>   137.4</td>\n",
       "</tr>\n",
       "<tr>\n",
       "  <th>Df Residuals:</th>          <td>    13</td>      <th>  BIC:               </th> <td>   138.8</td>\n",
       "</tr>\n",
       "<tr>\n",
       "  <th>Df Model:</th>              <td>     1</td>      <th>                     </th>     <td> </td>   \n",
       "</tr>\n",
       "<tr>\n",
       "  <th>Covariance Type:</th>      <td>nonrobust</td>    <th>                     </th>     <td> </td>   \n",
       "</tr>\n",
       "</table>\n",
       "<table class=\"simpletable\">\n",
       "<tr>\n",
       "    <td></td>       <th>coef</th>     <th>std err</th>      <th>t</th>      <th>P>|t|</th>  <th>[0.025</th>    <th>0.975]</th>  \n",
       "</tr>\n",
       "<tr>\n",
       "  <th>const</th> <td>  678.8398</td> <td>   22.121</td> <td>   30.688</td> <td> 0.000</td> <td>  631.051</td> <td>  726.628</td>\n",
       "</tr>\n",
       "<tr>\n",
       "  <th>年齢</th>    <td>   83.1402</td> <td>    6.451</td> <td>   12.888</td> <td> 0.000</td> <td>   69.204</td> <td>   97.077</td>\n",
       "</tr>\n",
       "</table>\n",
       "<table class=\"simpletable\">\n",
       "<tr>\n",
       "  <th>Omnibus:</th>       <td> 3.480</td> <th>  Durbin-Watson:     </th> <td>   1.896</td>\n",
       "</tr>\n",
       "<tr>\n",
       "  <th>Prob(Omnibus):</th> <td> 0.176</td> <th>  Jarque-Bera (JB):  </th> <td>   1.197</td>\n",
       "</tr>\n",
       "<tr>\n",
       "  <th>Skew:</th>          <td>-0.038</td> <th>  Prob(JB):          </th> <td>   0.550</td>\n",
       "</tr>\n",
       "<tr>\n",
       "  <th>Kurtosis:</th>      <td> 1.618</td> <th>  Cond. No.          </th> <td>    14.3</td>\n",
       "</tr>\n",
       "</table>"
      ],
      "text/plain": [
       "<class 'statsmodels.iolib.summary.Summary'>\n",
       "\"\"\"\n",
       "                            OLS Regression Results                            \n",
       "==============================================================================\n",
       "Dep. Variable:                     身長   R-squared:                       0.927\n",
       "Model:                            OLS   Adj. R-squared:                  0.922\n",
       "Method:                 Least Squares   F-statistic:                     166.1\n",
       "Date:                Fri, 12 Apr 2019   Prob (F-statistic):           8.84e-09\n",
       "Time:                        11:07:48   Log-Likelihood:                -66.707\n",
       "No. Observations:                  15   AIC:                             137.4\n",
       "Df Residuals:                      13   BIC:                             138.8\n",
       "Df Model:                           1                                         \n",
       "Covariance Type:            nonrobust                                         \n",
       "==============================================================================\n",
       "                 coef    std err          t      P>|t|      [0.025      0.975]\n",
       "------------------------------------------------------------------------------\n",
       "const        678.8398     22.121     30.688      0.000     631.051     726.628\n",
       "年齢            83.1402      6.451     12.888      0.000      69.204      97.077\n",
       "==============================================================================\n",
       "Omnibus:                        3.480   Durbin-Watson:                   1.896\n",
       "Prob(Omnibus):                  0.176   Jarque-Bera (JB):                1.197\n",
       "Skew:                          -0.038   Prob(JB):                        0.550\n",
       "Kurtosis:                       1.618   Cond. No.                         14.3\n",
       "==============================================================================\n",
       "\n",
       "Warnings:\n",
       "[1] Standard Errors assume that the covariance matrix of the errors is correctly specified.\n",
       "\"\"\""
      ]
     },
     "execution_count": 16,
     "metadata": {},
     "output_type": "execute_result"
    }
   ],
   "source": [
    "\n",
    "#説明変数の抽出\n",
    "X = children[\"年齢\"] \n",
    "#目的変数の抽出\n",
    "Y = children[\"身長\"] \n",
    "\n",
    "\n",
    "#ライブラリの導入\n",
    "#エラーになる場合、anaconda promptからpip install statsmodels\n",
    "import statsmodels.api as smf\n",
    "#定数表示\n",
    "X1=smf.add_constant(X) \n",
    "#OLS(最小二乗法)でモデル作成\n",
    "model = smf.OLS(Y,X1)\n",
    "#model.fitで実際の計算\n",
    "result = model.fit()\n",
    "#結果表示\n",
    "result.summary()\n"
   ]
  },
  {
   "cell_type": "code",
   "execution_count": 17,
   "metadata": {},
   "outputs": [
    {
     "name": "stdout",
     "output_type": "stream",
     "text": [
      "残差平方和: 810.900079174 回帰平方和: 9269.12735317 全体平方和: 4596.84\n",
      "残差平方和: 1182.06055396 回帰平方和: 19256.0265364 全体平方和: 18805.48\n",
      "残差平方和: 1464.9312459 回帰平方和: 19681.1598053 全体平方和: 18819.92\n",
      "残差平方和: 1603.64440245 回帰平方和: 20798.2129527 全体平方和: 20862.96\n",
      "残差平方和: 1743.22748044 回帰平方和: 26879.9467553 全体平方和: 28927.0\n",
      "残差平方和: 2046.66228092 回帰平方和: 29519.9148643 全体平方和: 33660.44\n",
      "残差平方和: 3009.42783754 回帰平方和: 34970.5569095 全体平方和: 35492.28\n",
      "残差平方和: 3512.57626702 回帰平方和: 38148.0244167 全体平方和: 41701.72\n",
      "残差平方和: 3676.19484228 回帰平方和: 42773.2012082 全体平方和: 48230.36\n",
      "残差平方和: 4006.1008656 回帰平方和: 49936.5696022 全体平方和: 58798.2\n",
      "残差平方和: 4033.92691763 回帰平方和: 56738.7019038 全体平方和: 64758.04\n",
      "残差平方和: 4653.03922987 回帰平方和: 62872.4161009 全体平方和: 75408.28\n",
      "残差平方和: 5042.94630267 回帰平方和: 71887.1713109 全体平方和: 81063.32\n",
      "残差平方和: 5156.97876536 回帰平方和: 75796.0969754 全体平方和: 86421.56\n",
      "残差平方和: 6402.12507647 回帰平方和: 81800.2749235 全体平方和: 88202.4\n",
      "決定係数 0.927415522974 0.927415522974\n"
     ]
    }
   ],
   "source": [
    "##決定係数\n",
    "#残差平方和,回帰平方和、全体平方和を求める\n",
    "z_sum=0\n",
    "k_sum=0\n",
    "t_sum=0\n",
    "for i in range(0,len(children)):\n",
    "    #残差平方和 y(実測値) - 予測値\n",
    "    z_sum += (children[\"身長\"][i]-(children[\"年齢\"][i]*a+b))**2\n",
    "    #回帰平方和 予測値 - 平均\n",
    "    k_sum+= ((children[\"年齢\"][i]*a+b)-y)**2\n",
    "    #全体平方和 y(実測値) - 平均\n",
    "    t_sum+= ((children[\"身長\"][i])-y)**2\n",
    "\n",
    "\n",
    "    print (\"残差平方和:\",z_sum,\"回帰平方和:\",k_sum,\"全体平方和:\",t_sum)\n",
    "\n",
    "#決定係数を求める\n",
    "print (\"決定係数\", k_sum/t_sum, 1 - z_sum/t_sum)\n",
    "\n",
    "\n"
   ]
  },
  {
   "cell_type": "code",
   "execution_count": 26,
   "metadata": {},
   "outputs": [],
   "source": [
    "#標準誤差を求める\n",
    "\n",
    "#残差平方和を自由度を引いた個数でかける\n",
    "\n",
    "se1=z_sum*(1/(len(children)-2))"
   ]
  },
  {
   "cell_type": "code",
   "execution_count": 25,
   "metadata": {},
   "outputs": [
    {
     "data": {
      "text/plain": [
       "0.07692307692307693"
      ]
     },
     "execution_count": 25,
     "metadata": {},
     "output_type": "execute_result"
    }
   ],
   "source": [
    "1/(len(children)-2)"
   ]
  },
  {
   "cell_type": "code",
   "execution_count": null,
   "metadata": {
    "collapsed": true
   },
   "outputs": [],
   "source": []
  }
 ],
 "metadata": {
  "kernelspec": {
   "display_name": "Python 3",
   "language": "python",
   "name": "python3"
  },
  "language_info": {
   "codemirror_mode": {
    "name": "ipython",
    "version": 3
   },
   "file_extension": ".py",
   "mimetype": "text/x-python",
   "name": "python",
   "nbconvert_exporter": "python",
   "pygments_lexer": "ipython3",
   "version": "3.6.1"
  }
 },
 "nbformat": 4,
 "nbformat_minor": 2
}

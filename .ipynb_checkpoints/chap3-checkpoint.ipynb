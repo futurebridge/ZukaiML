{
 "cells": [
  {
   "cell_type": "markdown",
   "metadata": {},
   "source": [
    "## ハンズオン３－１　階層化クラスタリング"
   ]
  },
  {
   "cell_type": "code",
   "execution_count": 1,
   "metadata": {},
   "outputs": [
    {
     "data": {
      "text/html": [
       "<div>\n",
       "<style>\n",
       "    .dataframe thead tr:only-child th {\n",
       "        text-align: right;\n",
       "    }\n",
       "\n",
       "    .dataframe thead th {\n",
       "        text-align: left;\n",
       "    }\n",
       "\n",
       "    .dataframe tbody tr th {\n",
       "        vertical-align: top;\n",
       "    }\n",
       "</style>\n",
       "<table border=\"1\" class=\"dataframe\">\n",
       "  <thead>\n",
       "    <tr style=\"text-align: right;\">\n",
       "      <th></th>\n",
       "      <th>国語</th>\n",
       "      <th>数学</th>\n",
       "      <th>物理</th>\n",
       "      <th>英語</th>\n",
       "    </tr>\n",
       "  </thead>\n",
       "  <tbody>\n",
       "    <tr>\n",
       "      <th>田中一郎</th>\n",
       "      <td>70</td>\n",
       "      <td>34</td>\n",
       "      <td>20</td>\n",
       "      <td>85</td>\n",
       "    </tr>\n",
       "    <tr>\n",
       "      <th>鈴木太郎</th>\n",
       "      <td>60</td>\n",
       "      <td>85</td>\n",
       "      <td>70</td>\n",
       "      <td>50</td>\n",
       "    </tr>\n",
       "    <tr>\n",
       "      <th>佐藤春子</th>\n",
       "      <td>96</td>\n",
       "      <td>45</td>\n",
       "      <td>33</td>\n",
       "      <td>73</td>\n",
       "    </tr>\n",
       "    <tr>\n",
       "      <th>山本夏子</th>\n",
       "      <td>78</td>\n",
       "      <td>82</td>\n",
       "      <td>24</td>\n",
       "      <td>34</td>\n",
       "    </tr>\n",
       "  </tbody>\n",
       "</table>\n",
       "</div>"
      ],
      "text/plain": [
       "      国語  数学  物理  英語\n",
       "田中一郎  70  34  20  85\n",
       "鈴木太郎  60  85  70  50\n",
       "佐藤春子  96  45  33  73\n",
       "山本夏子  78  82  24  34"
      ]
     },
     "execution_count": 1,
     "metadata": {},
     "output_type": "execute_result"
    }
   ],
   "source": [
    "#データを読み込む\n",
    "import numpy as np\n",
    "import pandas as pd\n",
    "\n",
    "group1 = pd.DataFrame({'国語':[70,60,96,78],\n",
    "                     '英語':[85,50,73,34],\n",
    "                     '数学':[34,85,45,82],\n",
    "                     '物理':[20,70,33,24]},\n",
    "                   index=['田中一郎','鈴木太郎','佐藤春子','山本夏子'])\n",
    "\n",
    "#group1を表示\n",
    "group1"
   ]
  },
  {
   "cell_type": "code",
   "execution_count": 5,
   "metadata": {},
   "outputs": [
    {
     "data": {
      "image/png": "[encoded data removed]",
      "text/plain": [
       "<matplotlib.figure.Figure at 0x236cd8e5da0>"
      ]
     },
     "metadata": {},
     "output_type": "display_data"
    }
   ],
   "source": [
    "from scipy.cluster.hierarchy import dendrogram, linkage\n",
    "import pylab as plt\n",
    "\n",
    "\n",
    "#クラスタリング\n",
    "result1 = linkage(group1, method = 'single')\n",
    "\n",
    "name = ('田中一郎','鈴木太郎','佐藤春子','山本夏子')\n",
    "\n",
    "dendrogram(\n",
    "    result1,\n",
    "    leaf_rotation=90.,  # rotates the x axis labels\n",
    "    leaf_font_size=14.,  # font size for the x axis labels\n",
    "    labels=name)\n",
    "plt.show()\n",
    "\n"
   ]
  },
  {
   "cell_type": "markdown",
   "metadata": {},
   "source": [
    "## ハンズオン３－２　６つのグループ分類手法"
   ]
  },
  {
   "cell_type": "code",
   "execution_count": 6,
   "metadata": {
    "collapsed": true
   },
   "outputs": [],
   "source": [
    "group2 = pd.DataFrame({'英語':[80,90,80,70,30,90,60,50,30,70],\n",
    "                     '数学':[40,80,30,80,40,20,40,70,50,75]},\n",
    "                   index=['田中さん','鈴木さん','佐藤さん','山田さん','高橋さん','山本さん','吉田さん','伊藤さん','渡辺さん','小林さん'])\n",
    "\n",
    "name =('田中さん', '鈴木さん','佐藤さん', '山田さん', '高橋さん', '山本さん',\n",
    "             '吉田さん', '伊藤さん', '渡辺さん','小林さん')\n"
   ]
  },
  {
   "cell_type": "code",
   "execution_count": null,
   "metadata": {
    "collapsed": true
   },
   "outputs": [],
   "source": []
  },
  {
   "cell_type": "code",
   "execution_count": 8,
   "metadata": {
    "collapsed": true
   },
   "outputs": [],
   "source": [
    "\n",
    "#６つの手法でクラスターを併合\n",
    "from scipy.cluster.hierarchy import dendrogram, linkage\n",
    "import pylab as plt\n",
    "\n",
    "#単連結法\n",
    "result1 = linkage(group2, method = 'single')\n",
    "\n",
    "#完全連結法\n",
    "result2 = linkage(group2, method = 'complete')\n",
    "\n",
    "#群平均法\n",
    "result3 = linkage(group2, method = 'average')\n",
    "\n",
    "#重心法\n",
    "result4 = linkage(group2, method = 'weighted')\n",
    "\n",
    "#ウォード法\n",
    "result5 = linkage(group2, method = 'ward')\n",
    "\n",
    "#メディアン法\n",
    "result6 = linkage(group2, method = 'centroid')\n"
   ]
  },
  {
   "cell_type": "code",
   "execution_count": null,
   "metadata": {
    "collapsed": true
   },
   "outputs": [],
   "source": [
    "#単連結法、完全連結法、群平均法のグループ分類過程\n",
    "#0、１列：併合する要素、２列：距離\n",
    "pd.concat([pd.DataFrame(result1),pd.DataFrame(result2),pd.DataFrame(result3)],axis=1)\n"
   ]
  },
  {
   "cell_type": "code",
   "execution_count": null,
   "metadata": {
    "collapsed": true
   },
   "outputs": [],
   "source": [
    "#重心法、ウォード法、メディアン法のグループ分類過程\n",
    "#0、１列：併合する要素、２列：距離\n",
    "pd.concat([pd.DataFrame(result4),pd.DataFrame(result5),pd.DataFrame(result6)],axis=1)\n"
   ]
  },
  {
   "cell_type": "code",
   "execution_count": null,
   "metadata": {
    "collapsed": true
   },
   "outputs": [],
   "source": []
  },
  {
   "cell_type": "code",
   "execution_count": 9,
   "metadata": {},
   "outputs": [
    {
     "data": {
      "image/png": "[encoded data removed]",
      "text/plain": [
       "<matplotlib.figure.Figure at 0x236ce4d7ba8>"
      ]
     },
     "metadata": {},
     "output_type": "display_data"
    }
   ],
   "source": [
    "import pylab as plt\n",
    "plt.figure(figsize=(14,14))\n",
    "\n",
    "plt.subplot(231)\n",
    "dendrogram(\n",
    "    result1,\n",
    "    leaf_rotation=90.,  # rotates the x axis labels\n",
    "    leaf_font_size=10.,  # font size for the x axis labels\n",
    "    labels=name\n",
    ")\n",
    "plt.plot()\n",
    "\n",
    "plt.subplot(232)\n",
    "dendrogram(\n",
    "    result2,\n",
    "    leaf_rotation=90.,  # rotates the x axis labels\n",
    "    leaf_font_size=10.,  # font size for the x axis labels\n",
    "    labels=name\n",
    ")\n",
    "plt.plot()\n",
    "\n",
    "plt.subplot(233)\n",
    "dendrogram(\n",
    "    result3,\n",
    "    leaf_rotation=90.,  # rotates the x axis labels\n",
    "    leaf_font_size=10.,  # font size for the x axis labels\n",
    "    labels=name\n",
    ")\n",
    "plt.plot()\n",
    "\n",
    "plt.subplot(234)\n",
    "dendrogram(\n",
    "    result4,\n",
    "    leaf_rotation=90.,  # rotates the x axis labels\n",
    "    leaf_font_size=10.,  # font size for the x axis labels\n",
    "    labels=name\n",
    ")\n",
    "plt.plot()\n",
    "\n",
    "plt.subplot(235)\n",
    "dendrogram(\n",
    "    result5,\n",
    "    leaf_rotation=90.,  # rotates the x axis labels\n",
    "    leaf_font_size=10.,  # font size for the x axis labels\n",
    "    labels=name\n",
    ")\n",
    "plt.plot()\n",
    "\n",
    "plt.subplot(236)\n",
    "dendrogram(\n",
    "    result6,\n",
    "    leaf_rotation=90.,  # rotates the x axis labels\n",
    "    leaf_font_size=10.,  # font size for the x axis labels\n",
    "    labels=name\n",
    ")\n",
    "plt.plot()\n",
    "\n",
    "plt.show()\n",
    "\n",
    "\n"
   ]
  },
  {
   "cell_type": "markdown",
   "metadata": {},
   "source": [
    "## ハンズオン３－３　k-means++の利用"
   ]
  },
  {
   "cell_type": "code",
   "execution_count": 1,
   "metadata": {
    "collapsed": true
   },
   "outputs": [],
   "source": [
    "import pandas as pd\n",
    "#身長と体重のデータを読み込む\n",
    "childrenk = pd.read_csv(\"https://raw.githubusercontent.com/futurebridge/ZukaiML/master/childrenk.csv\",encoding=\"SHIFT-JIS\")\n",
    "\n",
    "childrenk = childrenk.dropna()"
   ]
  },
  {
   "cell_type": "code",
   "execution_count": 96,
   "metadata": {},
   "outputs": [
    {
     "data": {
      "text/plain": [
       "<matplotlib.collections.PathCollection at 0x1f36e2f67b8>"
      ]
     },
     "execution_count": 96,
     "metadata": {},
     "output_type": "execute_result"
    },
    {
     "data": {
      "image/png": "[encoded data removed]",
      "text/plain": [
       "<Figure size 432x288 with 1 Axes>"
      ]
     },
     "metadata": {
      "needs_background": "light"
     },
     "output_type": "display_data"
    }
   ],
   "source": [
    "from sklearn.cluster import KMeans\n",
    "\n",
    "import numpy as np\n",
    "\n",
    "import matplotlib.pyplot as plt\n",
    "\n",
    "kmeans = KMeans(n_clusters=6, init='k-means++', random_state=0)\n",
    "\n",
    "y_kmeans = kmeans.fit_predict(childrenk)\n",
    "\n",
    "\n",
    "# グラフの作成\n",
    "\n",
    "plt.scatter(childrenk.age, childrenk.length, c=y_kmeans, s=20, cmap='viridis')\n",
    "\n",
    "centers = kmeans.cluster_centers_\n",
    "\n",
    "plt.scatter(centers[:, 0], centers[:, 1], c='black', s=100, alpha=0.3)"
   ]
  },
  {
   "cell_type": "code",
   "execution_count": 44,
   "metadata": {
    "collapsed": true
   },
   "outputs": [],
   "source": [
    "plt.show()"
   ]
  },
  {
   "cell_type": "code",
   "execution_count": 98,
   "metadata": {
    "collapsed": true
   },
   "outputs": [],
   "source": [
    "\n",
    "\n",
    "childrenk['cluster_id']=y_kmeans"
   ]
  },
  {
   "cell_type": "code",
   "execution_count": 101,
   "metadata": {},
   "outputs": [
    {
     "data": {
      "text/html": [
       "<div>\n",
       "<style scoped>\n",
       "    .dataframe tbody tr th:only-of-type {\n",
       "        vertical-align: middle;\n",
       "    }\n",
       "\n",
       "    .dataframe tbody tr th {\n",
       "        vertical-align: top;\n",
       "    }\n",
       "\n",
       "    .dataframe thead th {\n",
       "        text-align: right;\n",
       "    }\n",
       "</style>\n",
       "<table border=\"1\" class=\"dataframe\">\n",
       "  <thead>\n",
       "    <tr style=\"text-align: right;\">\n",
       "      <th></th>\n",
       "      <th>age</th>\n",
       "      <th>length</th>\n",
       "      <th>weight</th>\n",
       "      <th>cluster_id</th>\n",
       "    </tr>\n",
       "  </thead>\n",
       "  <tbody>\n",
       "    <tr>\n",
       "      <th>count</th>\n",
       "      <td>1602.000000</td>\n",
       "      <td>1602.000000</td>\n",
       "      <td>1602.000000</td>\n",
       "      <td>1602.000000</td>\n",
       "    </tr>\n",
       "    <tr>\n",
       "      <th>mean</th>\n",
       "      <td>4.706710</td>\n",
       "      <td>1027.998127</td>\n",
       "      <td>17.273549</td>\n",
       "      <td>2.701623</td>\n",
       "    </tr>\n",
       "    <tr>\n",
       "      <th>std</th>\n",
       "      <td>2.099001</td>\n",
       "      <td>152.403105</td>\n",
       "      <td>5.566879</td>\n",
       "      <td>1.702659</td>\n",
       "    </tr>\n",
       "    <tr>\n",
       "      <th>min</th>\n",
       "      <td>0.390000</td>\n",
       "      <td>570.000000</td>\n",
       "      <td>4.600000</td>\n",
       "      <td>0.000000</td>\n",
       "    </tr>\n",
       "    <tr>\n",
       "      <th>25%</th>\n",
       "      <td>3.560000</td>\n",
       "      <td>946.000000</td>\n",
       "      <td>14.000000</td>\n",
       "      <td>1.000000</td>\n",
       "    </tr>\n",
       "    <tr>\n",
       "      <th>50%</th>\n",
       "      <td>4.510000</td>\n",
       "      <td>1029.500000</td>\n",
       "      <td>16.500000</td>\n",
       "      <td>2.000000</td>\n",
       "    </tr>\n",
       "    <tr>\n",
       "      <th>75%</th>\n",
       "      <td>5.910000</td>\n",
       "      <td>1123.000000</td>\n",
       "      <td>19.487500</td>\n",
       "      <td>4.000000</td>\n",
       "    </tr>\n",
       "    <tr>\n",
       "      <th>max</th>\n",
       "      <td>13.220000</td>\n",
       "      <td>1561.000000</td>\n",
       "      <td>47.800000</td>\n",
       "      <td>5.000000</td>\n",
       "    </tr>\n",
       "  </tbody>\n",
       "</table>\n",
       "</div>"
      ],
      "text/plain": [
       "               age       length       weight   cluster_id\n",
       "count  1602.000000  1602.000000  1602.000000  1602.000000\n",
       "mean      4.706710  1027.998127    17.273549     2.701623\n",
       "std       2.099001   152.403105     5.566879     1.702659\n",
       "min       0.390000   570.000000     4.600000     0.000000\n",
       "25%       3.560000   946.000000    14.000000     1.000000\n",
       "50%       4.510000  1029.500000    16.500000     2.000000\n",
       "75%       5.910000  1123.000000    19.487500     4.000000\n",
       "max      13.220000  1561.000000    47.800000     5.000000"
      ]
     },
     "execution_count": 101,
     "metadata": {},
     "output_type": "execute_result"
    }
   ],
   "source": [
    "childrenk.describe()"
   ]
  },
  {
   "cell_type": "code",
   "execution_count": 105,
   "metadata": {
    "scrolled": true
   },
   "outputs": [
    {
     "data": {
      "text/html": [
       "<div>\n",
       "<style scoped>\n",
       "    .dataframe tbody tr th:only-of-type {\n",
       "        vertical-align: middle;\n",
       "    }\n",
       "\n",
       "    .dataframe tbody tr th {\n",
       "        vertical-align: top;\n",
       "    }\n",
       "\n",
       "    .dataframe thead th {\n",
       "        text-align: right;\n",
       "    }\n",
       "</style>\n",
       "<table border=\"1\" class=\"dataframe\">\n",
       "  <thead>\n",
       "    <tr style=\"text-align: right;\">\n",
       "      <th></th>\n",
       "      <th>age</th>\n",
       "      <th>length</th>\n",
       "      <th>weight</th>\n",
       "      <th>cluster_id</th>\n",
       "      <th>0</th>\n",
       "    </tr>\n",
       "  </thead>\n",
       "  <tbody>\n",
       "    <tr>\n",
       "      <th>0</th>\n",
       "      <td>1.356647</td>\n",
       "      <td>750.179641</td>\n",
       "      <td>9.831587</td>\n",
       "      <td>0.0</td>\n",
       "      <td>167</td>\n",
       "    </tr>\n",
       "    <tr>\n",
       "      <th>1</th>\n",
       "      <td>6.881935</td>\n",
       "      <td>1196.854839</td>\n",
       "      <td>22.840726</td>\n",
       "      <td>1.0</td>\n",
       "      <td>248</td>\n",
       "    </tr>\n",
       "    <tr>\n",
       "      <th>2</th>\n",
       "      <td>4.217841</td>\n",
       "      <td>997.411405</td>\n",
       "      <td>15.619756</td>\n",
       "      <td>2.0</td>\n",
       "      <td>491</td>\n",
       "    </tr>\n",
       "    <tr>\n",
       "      <th>3</th>\n",
       "      <td>9.722375</td>\n",
       "      <td>1357.150000</td>\n",
       "      <td>32.091250</td>\n",
       "      <td>3.0</td>\n",
       "      <td>80</td>\n",
       "    </tr>\n",
       "    <tr>\n",
       "      <th>4</th>\n",
       "      <td>2.752072</td>\n",
       "      <td>884.725225</td>\n",
       "      <td>12.695946</td>\n",
       "      <td>4.0</td>\n",
       "      <td>222</td>\n",
       "    </tr>\n",
       "    <tr>\n",
       "      <th>5</th>\n",
       "      <td>5.449645</td>\n",
       "      <td>1091.479695</td>\n",
       "      <td>18.555203</td>\n",
       "      <td>5.0</td>\n",
       "      <td>394</td>\n",
       "    </tr>\n",
       "  </tbody>\n",
       "</table>\n",
       "</div>"
      ],
      "text/plain": [
       "        age       length     weight  cluster_id    0\n",
       "0  1.356647   750.179641   9.831587         0.0  167\n",
       "1  6.881935  1196.854839  22.840726         1.0  248\n",
       "2  4.217841   997.411405  15.619756         2.0  491\n",
       "3  9.722375  1357.150000  32.091250         3.0   80\n",
       "4  2.752072   884.725225  12.695946         4.0  222\n",
       "5  5.449645  1091.479695  18.555203         5.0  394"
      ]
     },
     "execution_count": 105,
     "metadata": {},
     "output_type": "execute_result"
    }
   ],
   "source": [
    "#各クラスタの平均、個数を求める\n",
    "totalm=[]\n",
    "totalc=[]\n",
    "\n",
    "for i in range(6):\n",
    "    totalm.append(childrenk[childrenk['cluster_id']==i].mean())\n",
    " \n",
    "for i in range(6):\n",
    "    totalc.append(childrenk.cluster_id[childrenk['cluster_id']==i].count())\n",
    "\n",
    "pd.concat([pd.DataFrame(totalm),pd.DataFrame(totalc)],axis=1)\n"
   ]
  },
  {
   "cell_type": "code",
   "execution_count": 100,
   "metadata": {},
   "outputs": [
    {
     "data": {
      "text/html": [
       "<div>\n",
       "<style scoped>\n",
       "    .dataframe tbody tr th:only-of-type {\n",
       "        vertical-align: middle;\n",
       "    }\n",
       "\n",
       "    .dataframe tbody tr th {\n",
       "        vertical-align: top;\n",
       "    }\n",
       "\n",
       "    .dataframe thead th {\n",
       "        text-align: right;\n",
       "    }\n",
       "</style>\n",
       "<table border=\"1\" class=\"dataframe\">\n",
       "  <thead>\n",
       "    <tr style=\"text-align: right;\">\n",
       "      <th></th>\n",
       "      <th>age</th>\n",
       "      <th>length</th>\n",
       "      <th>weight</th>\n",
       "      <th>cluster_id</th>\n",
       "      <th>0</th>\n",
       "    </tr>\n",
       "  </thead>\n",
       "  <tbody>\n",
       "    <tr>\n",
       "      <th>0</th>\n",
       "      <td>1.356647</td>\n",
       "      <td>750.179641</td>\n",
       "      <td>9.831587</td>\n",
       "      <td>0.0</td>\n",
       "      <td>167</td>\n",
       "    </tr>\n",
       "    <tr>\n",
       "      <th>1</th>\n",
       "      <td>6.881935</td>\n",
       "      <td>1196.854839</td>\n",
       "      <td>22.840726</td>\n",
       "      <td>1.0</td>\n",
       "      <td>248</td>\n",
       "    </tr>\n",
       "    <tr>\n",
       "      <th>2</th>\n",
       "      <td>4.217841</td>\n",
       "      <td>997.411405</td>\n",
       "      <td>15.619756</td>\n",
       "      <td>2.0</td>\n",
       "      <td>491</td>\n",
       "    </tr>\n",
       "    <tr>\n",
       "      <th>3</th>\n",
       "      <td>9.722375</td>\n",
       "      <td>1357.150000</td>\n",
       "      <td>32.091250</td>\n",
       "      <td>3.0</td>\n",
       "      <td>80</td>\n",
       "    </tr>\n",
       "    <tr>\n",
       "      <th>4</th>\n",
       "      <td>2.752072</td>\n",
       "      <td>884.725225</td>\n",
       "      <td>12.695946</td>\n",
       "      <td>4.0</td>\n",
       "      <td>222</td>\n",
       "    </tr>\n",
       "    <tr>\n",
       "      <th>5</th>\n",
       "      <td>5.449645</td>\n",
       "      <td>1091.479695</td>\n",
       "      <td>18.555203</td>\n",
       "      <td>5.0</td>\n",
       "      <td>394</td>\n",
       "    </tr>\n",
       "  </tbody>\n",
       "</table>\n",
       "</div>"
      ],
      "text/plain": [
       "        age       length     weight  cluster_id    0\n",
       "0  1.356647   750.179641   9.831587         0.0  167\n",
       "1  6.881935  1196.854839  22.840726         1.0  248\n",
       "2  4.217841   997.411405  15.619756         2.0  491\n",
       "3  9.722375  1357.150000  32.091250         3.0   80\n",
       "4  2.752072   884.725225  12.695946         4.0  222\n",
       "5  5.449645  1091.479695  18.555203         5.0  394"
      ]
     },
     "execution_count": 100,
     "metadata": {},
     "output_type": "execute_result"
    }
   ],
   "source": [
    "\n"
   ]
  },
  {
   "cell_type": "code",
   "execution_count": 103,
   "metadata": {
    "collapsed": true
   },
   "outputs": [],
   "source": [
    "#各クラスタの標準偏差を求める\n",
    "totals=[]\n",
    "\n",
    "for i in range(6):\n",
    "    totals.append(childrenk[childrenk['cluster_id']==i].std())\n"
   ]
  },
  {
   "cell_type": "code",
   "execution_count": 104,
   "metadata": {},
   "outputs": [
    {
     "data": {
      "text/html": [
       "<div>\n",
       "<style scoped>\n",
       "    .dataframe tbody tr th:only-of-type {\n",
       "        vertical-align: middle;\n",
       "    }\n",
       "\n",
       "    .dataframe tbody tr th {\n",
       "        vertical-align: top;\n",
       "    }\n",
       "\n",
       "    .dataframe thead th {\n",
       "        text-align: right;\n",
       "    }\n",
       "</style>\n",
       "<table border=\"1\" class=\"dataframe\">\n",
       "  <thead>\n",
       "    <tr style=\"text-align: right;\">\n",
       "      <th></th>\n",
       "      <th>age</th>\n",
       "      <th>length</th>\n",
       "      <th>weight</th>\n",
       "      <th>cluster_id</th>\n",
       "    </tr>\n",
       "  </thead>\n",
       "  <tbody>\n",
       "    <tr>\n",
       "      <th>0</th>\n",
       "      <td>0.383243</td>\n",
       "      <td>47.221384</td>\n",
       "      <td>1.306391</td>\n",
       "      <td>0.0</td>\n",
       "    </tr>\n",
       "    <tr>\n",
       "      <th>1</th>\n",
       "      <td>0.918614</td>\n",
       "      <td>34.859973</td>\n",
       "      <td>3.317637</td>\n",
       "      <td>0.0</td>\n",
       "    </tr>\n",
       "    <tr>\n",
       "      <th>2</th>\n",
       "      <td>0.519961</td>\n",
       "      <td>27.347085</td>\n",
       "      <td>1.290162</td>\n",
       "      <td>0.0</td>\n",
       "    </tr>\n",
       "    <tr>\n",
       "      <th>3</th>\n",
       "      <td>1.454939</td>\n",
       "      <td>64.297981</td>\n",
       "      <td>6.138243</td>\n",
       "      <td>0.0</td>\n",
       "    </tr>\n",
       "    <tr>\n",
       "      <th>4</th>\n",
       "      <td>0.630835</td>\n",
       "      <td>35.258466</td>\n",
       "      <td>1.238074</td>\n",
       "      <td>0.0</td>\n",
       "    </tr>\n",
       "    <tr>\n",
       "      <th>5</th>\n",
       "      <td>0.695344</td>\n",
       "      <td>28.343061</td>\n",
       "      <td>1.846454</td>\n",
       "      <td>0.0</td>\n",
       "    </tr>\n",
       "  </tbody>\n",
       "</table>\n",
       "</div>"
      ],
      "text/plain": [
       "        age     length    weight  cluster_id\n",
       "0  0.383243  47.221384  1.306391         0.0\n",
       "1  0.918614  34.859973  3.317637         0.0\n",
       "2  0.519961  27.347085  1.290162         0.0\n",
       "3  1.454939  64.297981  6.138243         0.0\n",
       "4  0.630835  35.258466  1.238074         0.0\n",
       "5  0.695344  28.343061  1.846454         0.0"
      ]
     },
     "execution_count": 104,
     "metadata": {},
     "output_type": "execute_result"
    }
   ],
   "source": [
    "pd.DataFrame(totals)"
   ]
  },
  {
   "cell_type": "markdown",
   "metadata": {},
   "source": [
    "## ハンズオン３－４　SSEによるグループ数の特定"
   ]
  },
  {
   "cell_type": "code",
   "execution_count": null,
   "metadata": {
    "collapsed": true
   },
   "outputs": [],
   "source": [
    "distortions = []\n",
    "\n",
    "for i  in range(1,11):                \n",
    "    km = KMeans(n_clusters=i,\n",
    "                init='k-means++',     \n",
    "                n_init=10,\n",
    "                max_iter=300,\n",
    "                random_state=0)\n",
    "    km.fit(childrenk)                         \n",
    "    inertia_= np.round(km.inertia_,3) \n",
    "    distortions.append(inertia_)  \n",
    "    print (inertia_)\n",
    "    \n",
    "plt.plot(range(1,11),distortions,marker='o')\n",
    "plt.xlabel('クラスタ数')\n",
    "plt.ylabel('Distortion')\n",
    "plt.show()\n"
   ]
  },
  {
   "cell_type": "code",
   "execution_count": null,
   "metadata": {
    "collapsed": true
   },
   "outputs": [],
   "source": [
    "from sklearn.cluster import KMeans\n",
    "\n",
    "import numpy as np\n",
    "\n",
    "import matplotlib.pyplot as plt\n",
    "\n",
    "kmeans = KMeans(n_clusters=3, init='random', random_state=0)\n",
    "\n",
    "y_kmeans = kmeans.fit_predict(childrenk)\n",
    "\n",
    "\n",
    "# グラフの作成\n",
    "\n",
    "plt.scatter(childrenk.age, childrenk.length, c=y_kmeans, s=20, cmap='viridis')\n",
    "\n",
    "centers = kmeans.cluster_centers_\n",
    "\n",
    "plt.scatter(centers[:, 0], centers[:, 1], c='black', s=100, alpha=0.3)\n",
    "\n",
    "plt.show()\n",
    "\n"
   ]
  },
  {
   "cell_type": "markdown",
   "metadata": {},
   "source": [
    "## ハンズオン３－5　シルエット係数を求める"
   ]
  },
  {
   "cell_type": "code",
   "execution_count": 109,
   "metadata": {
    "scrolled": true
   },
   "outputs": [
    {
     "name": "stdout",
     "output_type": "stream",
     "text": [
      "グループ 1 ,　シルエット係数平均 0.5611511783526599 個数 346\n",
      "グループ 2 ,　シルエット係数平均 0.5839070641164067 個数 853\n",
      "グループ 3 ,　シルエット係数平均 0.5051250697555721 個数 403\n"
     ]
    },
    {
     "data": {
      "image/png": "[encoded data removed]",
      "text/plain": [
       "<Figure size 432x288 with 1 Axes>"
      ]
     },
     "metadata": {
      "needs_background": "light"
     },
     "output_type": "display_data"
    }
   ],
   "source": [
    "from sklearn.metrics import silhouette_samples\n",
    "from matplotlib import cm\n",
    "\n",
    "cluster_labels = np.unique(y_kmeans)       # y_kmの要素の中で重複を無くす\n",
    "n_clusters=cluster_labels.shape[0]     # 配列の長さを返す。つまりここでは n_clustersで指定した3となる\n",
    "\n",
    "# シルエット係数を計算  \n",
    "silhouette_vals = silhouette_samples(childrenk,y_kmeans,metric='euclidean')  # サンプルデータ, クラスター番号、ユークリッド距離でシルエット係数計算\n",
    "y_ax_lower, y_ax_upper= 0,0\n",
    "yticks = []\n",
    "\n",
    "for i,c in enumerate(cluster_labels):\n",
    "        c_silhouette_vals = silhouette_vals[y_kmeans==c]      # cluster_labelsには 0-5の値\n",
    "        c_silhouette_vals.sort()\n",
    "        y_ax_upper += len(c_silhouette_vals)              # サンプルの個数をグループごとに足してy軸の最大値を決定\n",
    "        color = cm.jet(float(i)/n_clusters)               # 色の値を作る\n",
    "        plt.barh(range(y_ax_lower,y_ax_upper),            # 棒グラフのを描画（底辺の範囲を指定）\n",
    "                         c_silhouette_vals,               # 棒の幅（1サンプルを表す）\n",
    "                         height=1.0,                      # 棒の高さ\n",
    "                         edgecolor='none',                # 棒の端の色\n",
    "                         color=color)                     # 棒の色\n",
    "        yticks.append((y_ax_lower+y_ax_upper)/2)          # ラベルの表示位置を追加\n",
    "        y_ax_lower += len(c_silhouette_vals)              # 底辺の値に棒の幅を追加\n",
    "        print (\"グループ\",i+1,\",　シルエット係数平均\",np.mean(c_silhouette_vals),\"個数\",len(c_silhouette_vals))\n",
    "\n",
    "        \n",
    "silhouette_avg = np.mean(silhouette_vals)                 # シルエット係数の平均値\n",
    "plt.axvline(silhouette_avg,color=\"red\",linestyle=\"--\")    # 係数の平均値に破線を引く \n",
    "plt.yticks(yticks,cluster_labels + 1)                     # クラスタレベルを表示\n",
    "plt.ylabel('Cluster')\n",
    "plt.xlabel('silhouette coefficient')\n",
    "plt.show()"
   ]
  },
  {
   "cell_type": "code",
   "execution_count": null,
   "metadata": {
    "collapsed": true
   },
   "outputs": [],
   "source": [
    "silhouette_avg"
   ]
  },
  {
   "cell_type": "code",
   "execution_count": null,
   "metadata": {
    "collapsed": true
   },
   "outputs": [],
   "source": []
  },
  {
   "cell_type": "code",
   "execution_count": null,
   "metadata": {
    "collapsed": true
   },
   "outputs": [],
   "source": []
  },
  {
   "cell_type": "code",
   "execution_count": null,
   "metadata": {
    "collapsed": true
   },
   "outputs": [],
   "source": []
  },
  {
   "cell_type": "code",
   "execution_count": null,
   "metadata": {
    "collapsed": true
   },
   "outputs": [],
   "source": []
  },
  {
   "cell_type": "code",
   "execution_count": null,
   "metadata": {
    "collapsed": true
   },
   "outputs": [],
   "source": []
  }
 ],
 "metadata": {
  "kernelspec": {
   "display_name": "Python 3",
   "language": "python",
   "name": "python3"
  },
  "language_info": {
   "codemirror_mode": {
    "name": "ipython",
    "version": 3
   },
   "file_extension": ".py",
   "mimetype": "text/x-python",
   "name": "python",
   "nbconvert_exporter": "python",
   "pygments_lexer": "ipython3",
   "version": "3.6.1"
  }
 },
 "nbformat": 4,
 "nbformat_minor": 2
}

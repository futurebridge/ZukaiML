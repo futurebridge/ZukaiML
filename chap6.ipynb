{
 "cells": [
  {
   "cell_type": "markdown",
   "metadata": {
    "colab": {
     "base_uri": "https://localhost:8080/",
     "height": 34
    },
    "colab_type": "code",
    "executionInfo": {
     "elapsed": 1711,
     "status": "ok",
     "timestamp": 1558488395276,
     "user": {
      "displayName": "アイラ一郎",
      "photoUrl": "",
      "userId": "11301709050422544291"
     },
     "user_tz": -540
    },
    "id": "1HRYNc0-JZm8",
    "outputId": "b9dae915-21a7-47f5-cd25-e7e350e4f018"
   },
   "source": [
    "### ハンズオン　６－１　テンソルフローによる誤差関数"
   ]
  },
  {
   "cell_type": "markdown",
   "metadata": {},
   "source": [
    "#### 6-1-1.py"
   ]
  },
  {
   "cell_type": "code",
   "execution_count": null,
   "metadata": {
    "colab": {},
    "colab_type": "code",
    "id": "YbwDwvcqSVkv",
    "scrolled": true
   },
   "outputs": [],
   "source": [
    "#tensorflowをインストールする必要あり\n",
    "#Google Colaboでの利用を推奨\n",
    "\n",
    "import tensorflow as tf\n",
    "import matplotlib.pyplot as plt\n",
    "import numpy as np\n",
    "\n",
    "#データの生成 y = 33 x + 5　で10個生成する\n",
    "data_set = []\n",
    "[data_set.append(33 * x + 5) for x in range(10)]\n",
    "\n",
    "#プレイスホルダーの定義\n",
    "x = tf.placeholder(tf.float32, [None, 2])\n",
    "w = tf.Variable(tf.zeros([2, 1]))\n",
    "y = tf.matmul(x, w) #xとw(Variable)のかけ算をyとする\n",
    "#Placeholderの定義\n",
    "t = tf.placeholder(tf.float32, [None, 1])\n",
    "#誤差関数の定義　 教師データｔにyを二乗近似する\n",
    "loss = tf.reduce_sum(tf.square(y - t))\n",
    "#誤差関数に勾配降下法Adamを利用\n",
    "train_step = tf.train.AdamOptimizer().minimize(loss)\n"
   ]
  },
  {
   "cell_type": "markdown",
   "metadata": {},
   "source": [
    "#### 6-1-2.py"
   ]
  },
  {
   "cell_type": "code",
   "execution_count": 0,
   "metadata": {
    "colab": {},
    "colab_type": "code",
    "collapsed": true,
    "id": "1-CQ8TvXVLH0"
   },
   "outputs": [],
   "source": [
    "sess = tf.Session()\n",
    "sess.run(tf.global_variables_initializer())\n",
    "\n",
    "#教師データtに値を代入、TensorFlowのフォーマットに合わせる\n",
    "train_t = np.array(data_set);\n",
    "train_t = train_t.reshape([10, 1])\n",
    "train_x = np.zeros([10, 2])\n",
    "for row in range(10):\n",
    "    for col in range(2):\n",
    "        train_x[row][col] = row**col\n",
    "              \n",
    "i = 0\n",
    "for _ in range(100000):\n",
    "    i += 1\n",
    "    #勾配降下法でパラメータ更新\n",
    "    sess.run(train_step, feed_dict={x:train_x, t:train_t})\n",
    "    #1万回に一度誤差結果表示\n",
    "    if i % 10000 == 0:\n",
    "        loss_val = sess.run(loss, feed_dict={x:train_x, t:train_t})\n",
    "        print ('Step: %d, Loss: %f' % (i, loss_val))\n",
    "          \n",
    "\n",
    "#近似値を出力\n",
    "w_val = sess.run(w)\n",
    "print (w_val)\n"
   ]
  },
  {
   "cell_type": "code",
   "execution_count": 0,
   "metadata": {
    "colab": {
     "base_uri": "https://localhost:8080/",
     "height": 193
    },
    "colab_type": "code",
    "executionInfo": {
     "elapsed": 37335,
     "status": "ok",
     "timestamp": 1558492353121,
     "user": {
      "displayName": "アイラ一郎",
      "photoUrl": "",
      "userId": "11301709050422544291"
     },
     "user_tz": -540
    },
    "id": "-KrtDxl8Vh3o",
    "outputId": "5d63f679-cb09-4896-d2ea-5179ec892cba"
   },
   "outputs": [
    {
     "name": "stdout",
     "output_type": "stream",
     "text": [
      "Step: 10000, Loss 145626.375000\n",
      "Step: 20000, Loss 39952.503906\n",
      "Step: 30000, Loss 2620.265625\n",
      "Step: 40000, Loss 525.348511\n",
      "Step: 50000, Loss 58.248909\n",
      "Step: 60000, Loss 0.000000\n",
      "Step: 70000, Loss 0.000000\n",
      "Step: 80000, Loss 0.000000\n",
      "Step: 90000, Loss 0.000000\n",
      "Step: 100000, Loss 0.000000\n"
     ]
    }
   ],
   "source": []
  },
  {
   "cell_type": "markdown",
   "metadata": {
    "colab": {
     "base_uri": "https://localhost:8080/",
     "height": 52
    },
    "colab_type": "code",
    "executionInfo": {
     "elapsed": 466,
     "status": "ok",
     "timestamp": 1558492804095,
     "user": {
      "displayName": "アイラ一郎",
      "photoUrl": "",
      "userId": "11301709050422544291"
     },
     "user_tz": -540
    },
    "id": "92HVmRDXV4FO",
    "outputId": "176fd178-a9aa-4bf5-d8da-821e1819ac09"
   },
   "source": [
    "###  ハンズオン６－２　活性化関数"
   ]
  },
  {
   "cell_type": "markdown",
   "metadata": {},
   "source": [
    "#### 6-2-1.py"
   ]
  },
  {
   "cell_type": "code",
   "execution_count": 2,
   "metadata": {
    "colab": {},
    "colab_type": "code",
    "id": "BiZDfb46X9Eq"
   },
   "outputs": [
    {
     "data": {
      "image/png": "[encoded data removed]",
      "text/plain": [
       "<matplotlib.figure.Figure at 0x24db065e908>"
      ]
     },
     "metadata": {},
     "output_type": "display_data"
    }
   ],
   "source": [
    "import numpy as np\n",
    "import matplotlib.pylab as plt\n",
    "\n",
    "#ステップ関数\n",
    "def step_function(x):\n",
    "  y = x > 0.5\n",
    "  return y.astype(np.int)\n",
    "\n",
    "x = np.arange(-5.0, 5.0, 0.05)\n",
    "y = step_function(x)\n",
    "plt.plot(x, y)\n",
    "plt.ylim(-0.1, 1.1)\n",
    "plt.show()"
   ]
  },
  {
   "cell_type": "markdown",
   "metadata": {},
   "source": [
    "#### 6-2-2.py"
   ]
  },
  {
   "cell_type": "code",
   "execution_count": 3,
   "metadata": {
    "colab": {},
    "colab_type": "code",
    "id": "DVKT2dKFYC96"
   },
   "outputs": [
    {
     "data": {
      "image/png": "[encoded data removed]",
      "text/plain": [
       "<matplotlib.figure.Figure at 0x24daf9f8f98>"
      ]
     },
     "metadata": {},
     "output_type": "display_data"
    }
   ],
   "source": [
    "import numpy as np\n",
    "import matplotlib.pylab as plt\n",
    "\n",
    "#シグモイド関数\n",
    "def sigmoid(x):\n",
    "  return 1 / (1+np.exp(-x))\n",
    "\n",
    "x = np.arange(-5.0, 5.0, 0.1)\n",
    "y = sigmoid(x)\n",
    "plt.plot(x, y)\n",
    "plt.ylim(-0.1, 1.1)\n",
    "plt.show()"
   ]
  },
  {
   "cell_type": "markdown",
   "metadata": {},
   "source": [
    "#### 6-2-3.py"
   ]
  },
  {
   "cell_type": "code",
   "execution_count": 4,
   "metadata": {
    "colab": {},
    "colab_type": "code",
    "id": "fMw2PPXVYG0F"
   },
   "outputs": [
    {
     "data": {
      "image/png": "[encoded data removed]",
      "text/plain": [
       "<matplotlib.figure.Figure at 0x24db065e828>"
      ]
     },
     "metadata": {},
     "output_type": "display_data"
    }
   ],
   "source": [
    "import numpy as np\n",
    "import matplotlib.pylab as plt\n",
    "\n",
    "#ReLU関数\n",
    "def relu(x):\n",
    "  return np.maximum(0, x)\n",
    "\n",
    "x = np.arange(-5.0, 5.0, 0.1)\n",
    "y = relu(x)\n",
    "plt.plot(x, y)\n",
    "plt.show()"
   ]
  },
  {
   "cell_type": "code",
   "execution_count": 0,
   "metadata": {
    "colab": {},
    "colab_type": "code",
    "collapsed": true,
    "id": "pHC8RQYVYM3s"
   },
   "outputs": [],
   "source": []
  },
  {
   "cell_type": "code",
   "execution_count": 0,
   "metadata": {
    "colab": {},
    "colab_type": "code",
    "collapsed": true,
    "id": "VD72ory2YzDD"
   },
   "outputs": [],
   "source": []
  }
 ],
 "metadata": {
  "accelerator": "GPU",
  "colab": {
   "name": "Untitled1.ipynb",
   "provenance": [],
   "version": "0.3.2"
  },
  "kernelspec": {
   "display_name": "Python 3",
   "language": "python",
   "name": "python3"
  },
  "language_info": {
   "codemirror_mode": {
    "name": "ipython",
    "version": 3
   },
   "file_extension": ".py",
   "mimetype": "text/x-python",
   "name": "python",
   "nbconvert_exporter": "python",
   "pygments_lexer": "ipython3",
   "version": "3.6.1"
  }
 },
 "nbformat": 4,
 "nbformat_minor": 1
}

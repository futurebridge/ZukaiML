{
 "cells": [
  {
   "cell_type": "code",
   "execution_count": null,
   "metadata": {
    "collapsed": true
   },
   "outputs": [],
   "source": [
    "import numpy as np\n",
    "import pandas as pd\n",
    "\n",
    "group1 = pd.DataFrame({'英語':[80,90,80],\n",
    "                     '数学':[40,80,30]},\n",
    "                   index=['田中さん','鈴木さん','佐藤さん'])\n"
   ]
  },
  {
   "cell_type": "code",
   "execution_count": null,
   "metadata": {},
   "outputs": [],
   "source": [
    "group1"
   ]
  },
  {
   "cell_type": "code",
   "execution_count": null,
   "metadata": {
    "scrolled": true
   },
   "outputs": [],
   "source": [
    "\n",
    "#田中さん、鈴木さん、佐藤さんについて距離を求める\n",
    "dis1 = np.sqrt(((group1[\"英語\"]['田中さん']-group1[\"英語\"]['鈴木さん'])**2)+((group1[\"数学\"]['田中さん']-group1[\"数学\"]['鈴木さん'])**2))\n",
    "dis2 = np.sqrt(((group1[\"英語\"]['田中さん']-group1[\"英語\"]['佐藤さん'])**2)+((group1[\"数学\"]['田中さん']-group1[\"数学\"]['佐藤さん'])**2))\n",
    "dis3 = np.sqrt(((group1[\"英語\"]['鈴木さん']-group1[\"英語\"]['佐藤さん'])**2)+((group1[\"数学\"]['鈴木さん']-group1[\"数学\"]['佐藤さん'])**2))\n",
    "\n",
    "print (\"田中さん-鈴木さん\",np.round(dis1,3))\n",
    "print(\"田中さん-佐藤さん\",np.round(dis2,3))\n",
    "print(\"佐藤さん-鈴木さん\",np.round(dis3,3))\n"
   ]
  },
  {
   "cell_type": "code",
   "execution_count": null,
   "metadata": {},
   "outputs": [],
   "source": [
    "#クラスタリング\n",
    "result1 = linkage(group1, method = 'single')\n",
    "name = ('Tanaka','Suzuki','Sato')\n",
    "\n",
    "dendrogram(\n",
    "    result1,\n",
    "    leaf_rotation=90.,  # rotates the x axis labels\n",
    "    leaf_font_size=14.,  # font size for the x axis labels\n",
    "    labels=name)\n",
    "plt.show()\n",
    "\n",
    "#クラスタリング\n",
    "result1 = linkage(group1, method = 'single')\n",
    "name = ('Tanaka','Suzuki','Sato')\n"
   ]
  },
  {
   "cell_type": "code",
   "execution_count": null,
   "metadata": {
    "collapsed": true
   },
   "outputs": [],
   "source": [
    "group2 = pd.DataFrame({'英語':[80,90,80,70,30,90,60,50,30,70],\n",
    "                     '数学':[40,80,30,80,40,20,40,70,50,75]},\n",
    "                   index=['田中さん','鈴木さん','佐藤さん','山田さん','高橋さん','山本さん','吉田さん','伊藤さん','渡辺さん','小林さん'])\n",
    "\n",
    "name =('Tanaka', 'Suzuki','Sato', 'Yamada', 'Takahashi', 'Yamamoto',\n",
    "             'Yoshida', 'Ito', 'Watanabe','Kobayashi')\n"
   ]
  },
  {
   "cell_type": "code",
   "execution_count": null,
   "metadata": {
    "collapsed": true
   },
   "outputs": [],
   "source": []
  },
  {
   "cell_type": "code",
   "execution_count": null,
   "metadata": {
    "collapsed": true
   },
   "outputs": [],
   "source": [
    "\n",
    "from scipy.cluster.hierarchy import dendrogram, linkage\n",
    "import pylab as plt\n",
    "\n",
    "#単連結法\n",
    "result1 = linkage(group2, method = 'single')\n",
    "\n",
    "#完全連結法\n",
    "result2 = linkage(group2, method = 'complete')\n",
    "\n",
    "#群平均法\n",
    "result3 = linkage(group2, method = 'average')\n",
    "\n",
    "#重心法\n",
    "result4 = linkage(group2, method = 'weighted')\n",
    "\n",
    "#ウォード法\n",
    "result5 = linkage(group2, method = 'ward')\n",
    "\n",
    "#メディアン法\n",
    "result6 = linkage(group2, method = 'centroid')\n"
   ]
  },
  {
   "cell_type": "code",
   "execution_count": null,
   "metadata": {},
   "outputs": [],
   "source": [
    "#単連結法、完全連結法、群平均法のグループ分類過程\n",
    "#0、１列：併合する要素、２列：距離\n",
    "pd.concat([pd.DataFrame(result1),pd.DataFrame(result2),pd.DataFrame(result3)],axis=1)\n"
   ]
  },
  {
   "cell_type": "code",
   "execution_count": null,
   "metadata": {},
   "outputs": [],
   "source": [
    "#重心法、ウォード法、メディアン法のグループ分類過程\n",
    "#0、１列：併合する要素、２列：距離\n",
    "pd.concat([pd.DataFrame(result4),pd.DataFrame(result5),pd.DataFrame(result6)],axis=1)\n"
   ]
  },
  {
   "cell_type": "code",
   "execution_count": null,
   "metadata": {
    "collapsed": true
   },
   "outputs": [],
   "source": []
  },
  {
   "cell_type": "code",
   "execution_count": null,
   "metadata": {},
   "outputs": [],
   "source": [
    "import pylab as plt\n",
    "plt.figure(figsize=(14,14))\n",
    "\n",
    "plt.subplot(231)\n",
    "dendrogram(\n",
    "    result1,\n",
    "    leaf_rotation=90.,  # rotates the x axis labels\n",
    "    leaf_font_size=10.,  # font size for the x axis labels\n",
    "    labels=name\n",
    ")\n",
    "plt.plot()\n",
    "\n",
    "plt.subplot(232)\n",
    "dendrogram(\n",
    "    result2,\n",
    "    leaf_rotation=90.,  # rotates the x axis labels\n",
    "    leaf_font_size=10.,  # font size for the x axis labels\n",
    "    labels=name\n",
    ")\n",
    "plt.plot()\n",
    "\n",
    "plt.subplot(233)\n",
    "dendrogram(\n",
    "    result3,\n",
    "    leaf_rotation=90.,  # rotates the x axis labels\n",
    "    leaf_font_size=10.,  # font size for the x axis labels\n",
    "    labels=name\n",
    ")\n",
    "plt.plot()\n",
    "\n",
    "plt.subplot(234)\n",
    "dendrogram(\n",
    "    result4,\n",
    "    leaf_rotation=90.,  # rotates the x axis labels\n",
    "    leaf_font_size=10.,  # font size for the x axis labels\n",
    "    labels=name\n",
    ")\n",
    "plt.plot()\n",
    "\n",
    "plt.subplot(235)\n",
    "dendrogram(\n",
    "    result5,\n",
    "    leaf_rotation=90.,  # rotates the x axis labels\n",
    "    leaf_font_size=10.,  # font size for the x axis labels\n",
    "    labels=name\n",
    ")\n",
    "plt.plot()\n",
    "\n",
    "plt.subplot(236)\n",
    "dendrogram(\n",
    "    result6,\n",
    "    leaf_rotation=90.,  # rotates the x axis labels\n",
    "    leaf_font_size=10.,  # font size for the x axis labels\n",
    "    labels=name\n",
    ")\n",
    "plt.plot()\n",
    "\n",
    "plt.show()\n",
    "\n",
    "\n"
   ]
  },
  {
   "cell_type": "code",
   "execution_count": null,
   "metadata": {
    "collapsed": true
   },
   "outputs": [],
   "source": [
    "import pandas as pd\n",
    "#身長と体重のデータを読み込む\n",
    "childrenk = pd.read_csv(\"https://raw.githubusercontent.com/futurebridge/ZukaiML/master/childrenk.csv\",encoding=\"SHIFT-JIS\")\n",
    "\n",
    "childrenk = childrenk.dropna()"
   ]
  },
  {
   "cell_type": "code",
   "execution_count": null,
   "metadata": {
    "collapsed": true
   },
   "outputs": [],
   "source": [
    "from sklearn.cluster import KMeans\n",
    "\n",
    "import numpy as np\n",
    "\n",
    "import matplotlib.pyplot as plt\n",
    "\n",
    "kmeans = KMeans(n_clusters=6, init='random', random_state=0)\n",
    "\n",
    "y_kmeans = kmeans.fit_predict(childrenk)\n",
    "\n",
    "\n",
    "# グラフの作成\n",
    "\n",
    "plt.scatter(childrenk.age, childrenk.length, c=y_kmeans, s=20, cmap='viridis')\n",
    "\n",
    "centers = kmeans.cluster_centers_\n",
    "\n",
    "plt.scatter(centers[:, 0], centers[:, 1], c='black', s=100, alpha=0.3)"
   ]
  },
  {
   "cell_type": "code",
   "execution_count": null,
   "metadata": {},
   "outputs": [],
   "source": [
    "plt.show()"
   ]
  },
  {
   "cell_type": "code",
   "execution_count": null,
   "metadata": {},
   "outputs": [],
   "source": [
    "y_kmeans"
   ]
  },
  {
   "cell_type": "code",
   "execution_count": null,
   "metadata": {},
   "outputs": [],
   "source": [
    "distortions = []\n",
    "\n",
    "for i  in range(1,11):                \n",
    "    km = KMeans(n_clusters=i,\n",
    "                init='k-means++',     \n",
    "                n_init=10,\n",
    "                max_iter=300,\n",
    "                random_state=0)\n",
    "    km.fit(childrenk)                         \n",
    "    inertia_= np.round(km.inertia_,3) \n",
    "    distortions.append(inertia_)  \n",
    "    print (inertia_)\n",
    "    \n",
    "plt.plot(range(1,11),distortions,marker='o')\n",
    "plt.xlabel('Number of clusters')\n",
    "plt.ylabel('Distortion')\n",
    "plt.show()\n"
   ]
  },
  {
   "cell_type": "code",
   "execution_count": null,
   "metadata": {},
   "outputs": [],
   "source": [
    "from sklearn.cluster import KMeans\n",
    "\n",
    "import numpy as np\n",
    "\n",
    "import matplotlib.pyplot as plt\n",
    "\n",
    "kmeans = KMeans(n_clusters=3, init='random', random_state=0)\n",
    "\n",
    "y_kmeans = kmeans.fit_predict(childrenk)\n",
    "\n",
    "\n",
    "# グラフの作成\n",
    "\n",
    "plt.scatter(childrenk.age, childrenk.length, c=y_kmeans, s=20, cmap='viridis')\n",
    "\n",
    "centers = kmeans.cluster_centers_\n",
    "\n",
    "plt.scatter(centers[:, 0], centers[:, 1], c='black', s=100, alpha=0.3)\n",
    "\n",
    "plt.show()\n",
    "\n"
   ]
  },
  {
   "cell_type": "code",
   "execution_count": null,
   "metadata": {
    "scrolled": true
   },
   "outputs": [],
   "source": [
    "from sklearn.metrics import silhouette_samples\n",
    "from matplotlib import cm\n",
    "\n",
    "cluster_labels = np.unique(y_kmeans)       # y_kmの要素の中で重複を無くす\n",
    "n_clusters=cluster_labels.shape[0]     # 配列の長さを返す。つまりここでは n_clustersで指定した3となる\n",
    "\n",
    "# シルエット係数を計算  \n",
    "silhouette_vals = silhouette_samples(childrenk,y_kmeans,metric='euclidean')  # サンプルデータ, クラスター番号、ユークリッド距離でシルエット係数計算\n",
    "y_ax_lower, y_ax_upper= 0,0\n",
    "yticks = []\n",
    "\n",
    "for i,c in enumerate(cluster_labels):\n",
    "        c_silhouette_vals = silhouette_vals[y_kmeans==c]      # cluster_labelsには 0-5の値\n",
    "        c_silhouette_vals.sort()\n",
    "        y_ax_upper += len(c_silhouette_vals)              # サンプルの個数をグループごとに足してy軸の最大値を決定\n",
    "        color = cm.jet(float(i)/n_clusters)               # 色の値を作る\n",
    "        plt.barh(range(y_ax_lower,y_ax_upper),            # 棒グラフのを描画（底辺の範囲を指定）\n",
    "                         c_silhouette_vals,               # 棒の幅（1サンプルを表す）\n",
    "                         height=1.0,                      # 棒の高さ\n",
    "                         edgecolor='none',                # 棒の端の色\n",
    "                         color=color)                     # 棒の色\n",
    "        yticks.append((y_ax_lower+y_ax_upper)/2)          # ラベルの表示位置を追加\n",
    "        y_ax_lower += len(c_silhouette_vals)              # 底辺の値に棒の幅を追加\n",
    "        print (\"グループ\",i+1,\",　シルエット係数平均\",np.mean(c_silhouette_vals),\"個数\",len(c_silhouette_vals))\n",
    "\n",
    "        \n",
    "silhouette_avg = np.mean(silhouette_vals)                 # シルエット係数の平均値\n",
    "plt.axvline(silhouette_avg,color=\"red\",linestyle=\"--\")    # 係数の平均値に破線を引く \n",
    "plt.yticks(yticks,cluster_labels + 1)                     # クラスタレベルを表示\n",
    "plt.ylabel('Cluster')\n",
    "plt.xlabel('silhouette coefficient')\n",
    "plt.show()"
   ]
  },
  {
   "cell_type": "code",
   "execution_count": null,
   "metadata": {},
   "outputs": [],
   "source": [
    "silhouette_avg"
   ]
  },
  {
   "cell_type": "code",
   "execution_count": null,
   "metadata": {
    "collapsed": true
   },
   "outputs": [],
   "source": []
  },
  {
   "cell_type": "code",
   "execution_count": null,
   "metadata": {
    "collapsed": true
   },
   "outputs": [],
   "source": []
  },
  {
   "cell_type": "code",
   "execution_count": null,
   "metadata": {
    "collapsed": true
   },
   "outputs": [],
   "source": []
  },
  {
   "cell_type": "code",
   "execution_count": null,
   "metadata": {
    "collapsed": true
   },
   "outputs": [],
   "source": []
  },
  {
   "cell_type": "code",
   "execution_count": null,
   "metadata": {
    "collapsed": true
   },
   "outputs": [],
   "source": []
  }
 ],
 "metadata": {
  "kernelspec": {
   "display_name": "Python 3",
   "language": "python",
   "name": "python3"
  },
  "language_info": {
   "codemirror_mode": {
    "name": "ipython",
    "version": 3
   },
   "file_extension": ".py",
   "mimetype": "text/x-python",
   "name": "python",
   "nbconvert_exporter": "python",
   "pygments_lexer": "ipython3",
   "version": "3.6.1"
  }
 },
 "nbformat": 4,
 "nbformat_minor": 2
}

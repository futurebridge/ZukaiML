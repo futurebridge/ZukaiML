{
 "cells": [
  {
   "cell_type": "code",
   "execution_count": 159,
   "metadata": {
    "collapsed": true
   },
   "outputs": [],
   "source": [
    "import numpy as np\n",
    "import pandas as pd\n",
    "\n",
    "group1 = pd.DataFrame({'英語':[80,90,80],\n",
    "                     '数学':[40,80,30]},\n",
    "                   index=['田中さん','鈴木さん','佐藤さん'])\n"
   ]
  },
  {
   "cell_type": "code",
   "execution_count": 160,
   "metadata": {},
   "outputs": [
    {
     "data": {
      "text/html": [
       "<div>\n",
       "<style>\n",
       "    .dataframe thead tr:only-child th {\n",
       "        text-align: right;\n",
       "    }\n",
       "\n",
       "    .dataframe thead th {\n",
       "        text-align: left;\n",
       "    }\n",
       "\n",
       "    .dataframe tbody tr th {\n",
       "        vertical-align: top;\n",
       "    }\n",
       "</style>\n",
       "<table border=\"1\" class=\"dataframe\">\n",
       "  <thead>\n",
       "    <tr style=\"text-align: right;\">\n",
       "      <th></th>\n",
       "      <th>数学</th>\n",
       "      <th>英語</th>\n",
       "    </tr>\n",
       "  </thead>\n",
       "  <tbody>\n",
       "    <tr>\n",
       "      <th>田中さん</th>\n",
       "      <td>40</td>\n",
       "      <td>80</td>\n",
       "    </tr>\n",
       "    <tr>\n",
       "      <th>鈴木さん</th>\n",
       "      <td>80</td>\n",
       "      <td>90</td>\n",
       "    </tr>\n",
       "    <tr>\n",
       "      <th>佐藤さん</th>\n",
       "      <td>30</td>\n",
       "      <td>80</td>\n",
       "    </tr>\n",
       "  </tbody>\n",
       "</table>\n",
       "</div>"
      ],
      "text/plain": [
       "      数学  英語\n",
       "田中さん  40  80\n",
       "鈴木さん  80  90\n",
       "佐藤さん  30  80"
      ]
     },
     "execution_count": 160,
     "metadata": {},
     "output_type": "execute_result"
    }
   ],
   "source": [
    "group1"
   ]
  },
  {
   "cell_type": "code",
   "execution_count": 161,
   "metadata": {
    "scrolled": true
   },
   "outputs": [
    {
     "name": "stdout",
     "output_type": "stream",
     "text": [
      "田中さん-鈴木さん 41.231\n",
      "田中さん-佐藤さん 10.0\n",
      "佐藤さん-鈴木さん 50.99\n"
     ]
    }
   ],
   "source": [
    "\n",
    "#田中さん、鈴木さん、佐藤さんについて距離を求める\n",
    "dis1 = np.sqrt(((group1[\"英語\"]['田中さん']-group1[\"英語\"]['鈴木さん'])**2)+((group1[\"数学\"]['田中さん']-group1[\"数学\"]['鈴木さん'])**2))\n",
    "dis2 = np.sqrt(((group1[\"英語\"]['田中さん']-group1[\"英語\"]['佐藤さん'])**2)+((group1[\"数学\"]['田中さん']-group1[\"数学\"]['佐藤さん'])**2))\n",
    "dis3 = np.sqrt(((group1[\"英語\"]['鈴木さん']-group1[\"英語\"]['佐藤さん'])**2)+((group1[\"数学\"]['鈴木さん']-group1[\"数学\"]['佐藤さん'])**2))\n",
    "\n",
    "print (\"田中さん-鈴木さん\",np.round(dis1,3))\n",
    "print(\"田中さん-佐藤さん\",np.round(dis2,3))\n",
    "print(\"佐藤さん-鈴木さん\",np.round(dis3,3))\n"
   ]
  },
  {
   "cell_type": "code",
   "execution_count": 163,
   "metadata": {},
   "outputs": [
    {
     "data": {
      "image/png": "[encoded data removed]",
      "text/plain": [
       "<matplotlib.figure.Figure at 0x206dde365c0>"
      ]
     },
     "metadata": {},
     "output_type": "display_data"
    }
   ],
   "source": [
    "#クラスタリング\n",
    "result1 = linkage(group1, method = 'single')\n",
    "name = ('Tanaka','Suzuki','Sato')\n",
    "\n",
    "dendrogram(\n",
    "    result1,\n",
    "    leaf_rotation=90.,  # rotates the x axis labels\n",
    "    leaf_font_size=14.,  # font size for the x axis labels\n",
    "    labels=name)\n",
    "plt.show()\n",
    "\n",
    "#クラスタリング\n",
    "result1 = linkage(group1, method = 'single')\n",
    "name = ('Tanaka','Suzuki','Sato')\n"
   ]
  },
  {
   "cell_type": "code",
   "execution_count": 171,
   "metadata": {},
   "outputs": [],
   "source": [
    "group2 = pd.DataFrame({'英語':[80,90,80,70,30,90,60,50,30,70],\n",
    "                     '数学':[40,80,30,80,40,20,40,70,50,75]},\n",
    "                   index=['田中さん','鈴木さん','佐藤さん','山田さん','高橋さん','山本さん','吉田さん','伊藤さん','渡辺さん','小林さん'])\n",
    "\n",
    "name =('Tanaka', 'Suzuki','Sato', 'Yamada', 'Takahashi', 'Yamamoto',\n",
    "             'Yoshida', 'Ito', 'Watanabe','Kobayashi')\n"
   ]
  },
  {
   "cell_type": "code",
   "execution_count": null,
   "metadata": {},
   "outputs": [],
   "source": []
  },
  {
   "cell_type": "code",
   "execution_count": 218,
   "metadata": {
    "collapsed": true
   },
   "outputs": [],
   "source": [
    "\n",
    "from scipy.cluster.hierarchy import dendrogram, linkage\n",
    "import pylab as plt\n",
    "\n",
    "#単連結法\n",
    "result1 = linkage(group2, method = 'single')\n",
    "\n",
    "#完全連結法\n",
    "result2 = linkage(group2, method = 'complete')\n",
    "\n",
    "#群平均法\n",
    "result3 = linkage(group2, method = 'average')\n",
    "\n",
    "#重心法\n",
    "result4 = linkage(group2, method = 'weighted')\n",
    "\n",
    "#ウォード法\n",
    "result5 = linkage(group2, method = 'ward')\n",
    "\n",
    "#メディアン法\n",
    "result6 = linkage(group2, method = 'centroid')\n"
   ]
  },
  {
   "cell_type": "code",
   "execution_count": 254,
   "metadata": {},
   "outputs": [
    {
     "data": {
      "text/html": [
       "<div>\n",
       "<style>\n",
       "    .dataframe thead tr:only-child th {\n",
       "        text-align: right;\n",
       "    }\n",
       "\n",
       "    .dataframe thead th {\n",
       "        text-align: left;\n",
       "    }\n",
       "\n",
       "    .dataframe tbody tr th {\n",
       "        vertical-align: top;\n",
       "    }\n",
       "</style>\n",
       "<table border=\"1\" class=\"dataframe\">\n",
       "  <thead>\n",
       "    <tr style=\"text-align: right;\">\n",
       "      <th></th>\n",
       "      <th>0</th>\n",
       "      <th>1</th>\n",
       "      <th>2</th>\n",
       "      <th>3</th>\n",
       "      <th>0</th>\n",
       "      <th>1</th>\n",
       "      <th>2</th>\n",
       "      <th>3</th>\n",
       "      <th>0</th>\n",
       "      <th>1</th>\n",
       "      <th>2</th>\n",
       "      <th>3</th>\n",
       "    </tr>\n",
       "  </thead>\n",
       "  <tbody>\n",
       "    <tr>\n",
       "      <th>0</th>\n",
       "      <td>3.0</td>\n",
       "      <td>9.0</td>\n",
       "      <td>5.000000</td>\n",
       "      <td>2.0</td>\n",
       "      <td>3.0</td>\n",
       "      <td>9.0</td>\n",
       "      <td>5.000000</td>\n",
       "      <td>2.0</td>\n",
       "      <td>3.0</td>\n",
       "      <td>9.0</td>\n",
       "      <td>5.000000</td>\n",
       "      <td>2.0</td>\n",
       "    </tr>\n",
       "    <tr>\n",
       "      <th>1</th>\n",
       "      <td>0.0</td>\n",
       "      <td>2.0</td>\n",
       "      <td>10.000000</td>\n",
       "      <td>2.0</td>\n",
       "      <td>0.0</td>\n",
       "      <td>2.0</td>\n",
       "      <td>10.000000</td>\n",
       "      <td>2.0</td>\n",
       "      <td>0.0</td>\n",
       "      <td>2.0</td>\n",
       "      <td>10.000000</td>\n",
       "      <td>2.0</td>\n",
       "    </tr>\n",
       "    <tr>\n",
       "      <th>2</th>\n",
       "      <td>4.0</td>\n",
       "      <td>8.0</td>\n",
       "      <td>10.000000</td>\n",
       "      <td>2.0</td>\n",
       "      <td>4.0</td>\n",
       "      <td>8.0</td>\n",
       "      <td>10.000000</td>\n",
       "      <td>2.0</td>\n",
       "      <td>4.0</td>\n",
       "      <td>8.0</td>\n",
       "      <td>10.000000</td>\n",
       "      <td>2.0</td>\n",
       "    </tr>\n",
       "    <tr>\n",
       "      <th>3</th>\n",
       "      <td>5.0</td>\n",
       "      <td>11.0</td>\n",
       "      <td>14.142136</td>\n",
       "      <td>3.0</td>\n",
       "      <td>1.0</td>\n",
       "      <td>10.0</td>\n",
       "      <td>20.615528</td>\n",
       "      <td>3.0</td>\n",
       "      <td>5.0</td>\n",
       "      <td>11.0</td>\n",
       "      <td>18.251408</td>\n",
       "      <td>3.0</td>\n",
       "    </tr>\n",
       "    <tr>\n",
       "      <th>4</th>\n",
       "      <td>6.0</td>\n",
       "      <td>13.0</td>\n",
       "      <td>20.000000</td>\n",
       "      <td>4.0</td>\n",
       "      <td>5.0</td>\n",
       "      <td>11.0</td>\n",
       "      <td>22.360680</td>\n",
       "      <td>3.0</td>\n",
       "      <td>1.0</td>\n",
       "      <td>10.0</td>\n",
       "      <td>20.307764</td>\n",
       "      <td>3.0</td>\n",
       "    </tr>\n",
       "    <tr>\n",
       "      <th>5</th>\n",
       "      <td>1.0</td>\n",
       "      <td>10.0</td>\n",
       "      <td>20.000000</td>\n",
       "      <td>3.0</td>\n",
       "      <td>6.0</td>\n",
       "      <td>7.0</td>\n",
       "      <td>31.622777</td>\n",
       "      <td>2.0</td>\n",
       "      <td>6.0</td>\n",
       "      <td>13.0</td>\n",
       "      <td>26.138731</td>\n",
       "      <td>4.0</td>\n",
       "    </tr>\n",
       "    <tr>\n",
       "      <th>6</th>\n",
       "      <td>7.0</td>\n",
       "      <td>15.0</td>\n",
       "      <td>20.615528</td>\n",
       "      <td>4.0</td>\n",
       "      <td>12.0</td>\n",
       "      <td>15.0</td>\n",
       "      <td>36.055513</td>\n",
       "      <td>4.0</td>\n",
       "      <td>7.0</td>\n",
       "      <td>14.0</td>\n",
       "      <td>28.069088</td>\n",
       "      <td>4.0</td>\n",
       "    </tr>\n",
       "    <tr>\n",
       "      <th>7</th>\n",
       "      <td>12.0</td>\n",
       "      <td>16.0</td>\n",
       "      <td>28.284271</td>\n",
       "      <td>6.0</td>\n",
       "      <td>13.0</td>\n",
       "      <td>14.0</td>\n",
       "      <td>63.245553</td>\n",
       "      <td>6.0</td>\n",
       "      <td>15.0</td>\n",
       "      <td>16.0</td>\n",
       "      <td>47.776366</td>\n",
       "      <td>8.0</td>\n",
       "    </tr>\n",
       "    <tr>\n",
       "      <th>8</th>\n",
       "      <td>14.0</td>\n",
       "      <td>17.0</td>\n",
       "      <td>30.000000</td>\n",
       "      <td>10.0</td>\n",
       "      <td>16.0</td>\n",
       "      <td>17.0</td>\n",
       "      <td>72.111026</td>\n",
       "      <td>10.0</td>\n",
       "      <td>12.0</td>\n",
       "      <td>17.0</td>\n",
       "      <td>50.512777</td>\n",
       "      <td>10.0</td>\n",
       "    </tr>\n",
       "  </tbody>\n",
       "</table>\n",
       "</div>"
      ],
      "text/plain": [
       "      0     1          2     3     0     1          2     3     0     1  \\\n",
       "0   3.0   9.0   5.000000   2.0   3.0   9.0   5.000000   2.0   3.0   9.0   \n",
       "1   0.0   2.0  10.000000   2.0   0.0   2.0  10.000000   2.0   0.0   2.0   \n",
       "2   4.0   8.0  10.000000   2.0   4.0   8.0  10.000000   2.0   4.0   8.0   \n",
       "3   5.0  11.0  14.142136   3.0   1.0  10.0  20.615528   3.0   5.0  11.0   \n",
       "4   6.0  13.0  20.000000   4.0   5.0  11.0  22.360680   3.0   1.0  10.0   \n",
       "5   1.0  10.0  20.000000   3.0   6.0   7.0  31.622777   2.0   6.0  13.0   \n",
       "6   7.0  15.0  20.615528   4.0  12.0  15.0  36.055513   4.0   7.0  14.0   \n",
       "7  12.0  16.0  28.284271   6.0  13.0  14.0  63.245553   6.0  15.0  16.0   \n",
       "8  14.0  17.0  30.000000  10.0  16.0  17.0  72.111026  10.0  12.0  17.0   \n",
       "\n",
       "           2     3  \n",
       "0   5.000000   2.0  \n",
       "1  10.000000   2.0  \n",
       "2  10.000000   2.0  \n",
       "3  18.251408   3.0  \n",
       "4  20.307764   3.0  \n",
       "5  26.138731   4.0  \n",
       "6  28.069088   4.0  \n",
       "7  47.776366   8.0  \n",
       "8  50.512777  10.0  "
      ]
     },
     "execution_count": 254,
     "metadata": {},
     "output_type": "execute_result"
    }
   ],
   "source": [
    "#単連結法、完全連結法、群平均法のグループ分類過程\n",
    "#0、１列：併合する要素、２列：距離\n",
    "pd.concat([pd.DataFrame(result1),pd.DataFrame(result2),pd.DataFrame(result3)],axis=1)\n"
   ]
  },
  {
   "cell_type": "code",
   "execution_count": 255,
   "metadata": {},
   "outputs": [
    {
     "data": {
      "text/html": [
       "<div>\n",
       "<style>\n",
       "    .dataframe thead tr:only-child th {\n",
       "        text-align: right;\n",
       "    }\n",
       "\n",
       "    .dataframe thead th {\n",
       "        text-align: left;\n",
       "    }\n",
       "\n",
       "    .dataframe tbody tr th {\n",
       "        vertical-align: top;\n",
       "    }\n",
       "</style>\n",
       "<table border=\"1\" class=\"dataframe\">\n",
       "  <thead>\n",
       "    <tr style=\"text-align: right;\">\n",
       "      <th></th>\n",
       "      <th>0</th>\n",
       "      <th>1</th>\n",
       "      <th>2</th>\n",
       "      <th>3</th>\n",
       "      <th>0</th>\n",
       "      <th>1</th>\n",
       "      <th>2</th>\n",
       "      <th>3</th>\n",
       "      <th>0</th>\n",
       "      <th>1</th>\n",
       "      <th>2</th>\n",
       "      <th>3</th>\n",
       "    </tr>\n",
       "  </thead>\n",
       "  <tbody>\n",
       "    <tr>\n",
       "      <th>0</th>\n",
       "      <td>3.0</td>\n",
       "      <td>9.0</td>\n",
       "      <td>5.000000</td>\n",
       "      <td>2.0</td>\n",
       "      <td>3.0</td>\n",
       "      <td>9.0</td>\n",
       "      <td>5.000000</td>\n",
       "      <td>2.0</td>\n",
       "      <td>3.0</td>\n",
       "      <td>9.0</td>\n",
       "      <td>5.000000</td>\n",
       "      <td>2.0</td>\n",
       "    </tr>\n",
       "    <tr>\n",
       "      <th>1</th>\n",
       "      <td>0.0</td>\n",
       "      <td>2.0</td>\n",
       "      <td>10.000000</td>\n",
       "      <td>2.0</td>\n",
       "      <td>0.0</td>\n",
       "      <td>2.0</td>\n",
       "      <td>10.000000</td>\n",
       "      <td>2.0</td>\n",
       "      <td>0.0</td>\n",
       "      <td>2.0</td>\n",
       "      <td>10.000000</td>\n",
       "      <td>2.0</td>\n",
       "    </tr>\n",
       "    <tr>\n",
       "      <th>2</th>\n",
       "      <td>4.0</td>\n",
       "      <td>8.0</td>\n",
       "      <td>10.000000</td>\n",
       "      <td>2.0</td>\n",
       "      <td>4.0</td>\n",
       "      <td>8.0</td>\n",
       "      <td>10.000000</td>\n",
       "      <td>2.0</td>\n",
       "      <td>4.0</td>\n",
       "      <td>8.0</td>\n",
       "      <td>10.000000</td>\n",
       "      <td>2.0</td>\n",
       "    </tr>\n",
       "    <tr>\n",
       "      <th>3</th>\n",
       "      <td>5.0</td>\n",
       "      <td>11.0</td>\n",
       "      <td>18.251408</td>\n",
       "      <td>3.0</td>\n",
       "      <td>5.0</td>\n",
       "      <td>11.0</td>\n",
       "      <td>20.816660</td>\n",
       "      <td>3.0</td>\n",
       "      <td>5.0</td>\n",
       "      <td>11.0</td>\n",
       "      <td>18.027756</td>\n",
       "      <td>3.0</td>\n",
       "    </tr>\n",
       "    <tr>\n",
       "      <th>4</th>\n",
       "      <td>1.0</td>\n",
       "      <td>10.0</td>\n",
       "      <td>20.307764</td>\n",
       "      <td>3.0</td>\n",
       "      <td>1.0</td>\n",
       "      <td>10.0</td>\n",
       "      <td>23.273733</td>\n",
       "      <td>3.0</td>\n",
       "      <td>1.0</td>\n",
       "      <td>10.0</td>\n",
       "      <td>20.155644</td>\n",
       "      <td>3.0</td>\n",
       "    </tr>\n",
       "    <tr>\n",
       "      <th>5</th>\n",
       "      <td>6.0</td>\n",
       "      <td>13.0</td>\n",
       "      <td>28.617926</td>\n",
       "      <td>4.0</td>\n",
       "      <td>6.0</td>\n",
       "      <td>13.0</td>\n",
       "      <td>31.091264</td>\n",
       "      <td>4.0</td>\n",
       "      <td>6.0</td>\n",
       "      <td>13.0</td>\n",
       "      <td>25.385910</td>\n",
       "      <td>4.0</td>\n",
       "    </tr>\n",
       "    <tr>\n",
       "      <th>6</th>\n",
       "      <td>7.0</td>\n",
       "      <td>14.0</td>\n",
       "      <td>31.359580</td>\n",
       "      <td>4.0</td>\n",
       "      <td>7.0</td>\n",
       "      <td>14.0</td>\n",
       "      <td>34.217442</td>\n",
       "      <td>4.0</td>\n",
       "      <td>7.0</td>\n",
       "      <td>14.0</td>\n",
       "      <td>27.938424</td>\n",
       "      <td>4.0</td>\n",
       "    </tr>\n",
       "    <tr>\n",
       "      <th>7</th>\n",
       "      <td>12.0</td>\n",
       "      <td>15.0</td>\n",
       "      <td>44.561146</td>\n",
       "      <td>6.0</td>\n",
       "      <td>12.0</td>\n",
       "      <td>15.0</td>\n",
       "      <td>80.208063</td>\n",
       "      <td>6.0</td>\n",
       "      <td>15.0</td>\n",
       "      <td>16.0</td>\n",
       "      <td>44.388202</td>\n",
       "      <td>8.0</td>\n",
       "    </tr>\n",
       "    <tr>\n",
       "      <th>8</th>\n",
       "      <td>16.0</td>\n",
       "      <td>17.0</td>\n",
       "      <td>46.185034</td>\n",
       "      <td>10.0</td>\n",
       "      <td>16.0</td>\n",
       "      <td>17.0</td>\n",
       "      <td>88.623736</td>\n",
       "      <td>10.0</td>\n",
       "      <td>12.0</td>\n",
       "      <td>17.0</td>\n",
       "      <td>44.743191</td>\n",
       "      <td>10.0</td>\n",
       "    </tr>\n",
       "  </tbody>\n",
       "</table>\n",
       "</div>"
      ],
      "text/plain": [
       "      0     1          2     3     0     1          2     3     0     1  \\\n",
       "0   3.0   9.0   5.000000   2.0   3.0   9.0   5.000000   2.0   3.0   9.0   \n",
       "1   0.0   2.0  10.000000   2.0   0.0   2.0  10.000000   2.0   0.0   2.0   \n",
       "2   4.0   8.0  10.000000   2.0   4.0   8.0  10.000000   2.0   4.0   8.0   \n",
       "3   5.0  11.0  18.251408   3.0   5.0  11.0  20.816660   3.0   5.0  11.0   \n",
       "4   1.0  10.0  20.307764   3.0   1.0  10.0  23.273733   3.0   1.0  10.0   \n",
       "5   6.0  13.0  28.617926   4.0   6.0  13.0  31.091264   4.0   6.0  13.0   \n",
       "6   7.0  14.0  31.359580   4.0   7.0  14.0  34.217442   4.0   7.0  14.0   \n",
       "7  12.0  15.0  44.561146   6.0  12.0  15.0  80.208063   6.0  15.0  16.0   \n",
       "8  16.0  17.0  46.185034  10.0  16.0  17.0  88.623736  10.0  12.0  17.0   \n",
       "\n",
       "           2     3  \n",
       "0   5.000000   2.0  \n",
       "1  10.000000   2.0  \n",
       "2  10.000000   2.0  \n",
       "3  18.027756   3.0  \n",
       "4  20.155644   3.0  \n",
       "5  25.385910   4.0  \n",
       "6  27.938424   4.0  \n",
       "7  44.388202   8.0  \n",
       "8  44.743191  10.0  "
      ]
     },
     "execution_count": 255,
     "metadata": {},
     "output_type": "execute_result"
    }
   ],
   "source": [
    "#重心法、ウォード法、メディアン法のグループ分類過程\n",
    "#0、１列：併合する要素、２列：距離\n",
    "pd.concat([pd.DataFrame(result4),pd.DataFrame(result5),pd.DataFrame(result6)],axis=1)\n"
   ]
  },
  {
   "cell_type": "code",
   "execution_count": null,
   "metadata": {},
   "outputs": [],
   "source": []
  },
  {
   "cell_type": "code",
   "execution_count": 174,
   "metadata": {},
   "outputs": [
    {
     "data": {
      "image/png": "[encoded data removed]",
      "text/plain": [
       "<matplotlib.figure.Figure at 0x206e2488048>"
      ]
     },
     "metadata": {},
     "output_type": "display_data"
    }
   ],
   "source": [
    "import pylab as plt\n",
    "plt.figure(figsize=(14,14))\n",
    "\n",
    "plt.subplot(231)\n",
    "dendrogram(\n",
    "    result1,\n",
    "    leaf_rotation=90.,  # rotates the x axis labels\n",
    "    leaf_font_size=10.,  # font size for the x axis labels\n",
    "    labels=name\n",
    ")\n",
    "plt.plot()\n",
    "\n",
    "plt.subplot(232)\n",
    "dendrogram(\n",
    "    result2,\n",
    "    leaf_rotation=90.,  # rotates the x axis labels\n",
    "    leaf_font_size=10.,  # font size for the x axis labels\n",
    "    labels=name\n",
    ")\n",
    "plt.plot()\n",
    "\n",
    "plt.subplot(233)\n",
    "dendrogram(\n",
    "    result3,\n",
    "    leaf_rotation=90.,  # rotates the x axis labels\n",
    "    leaf_font_size=10.,  # font size for the x axis labels\n",
    "    labels=name\n",
    ")\n",
    "plt.plot()\n",
    "\n",
    "plt.subplot(234)\n",
    "dendrogram(\n",
    "    result4,\n",
    "    leaf_rotation=90.,  # rotates the x axis labels\n",
    "    leaf_font_size=10.,  # font size for the x axis labels\n",
    "    labels=name\n",
    ")\n",
    "plt.plot()\n",
    "\n",
    "plt.subplot(235)\n",
    "dendrogram(\n",
    "    result5,\n",
    "    leaf_rotation=90.,  # rotates the x axis labels\n",
    "    leaf_font_size=10.,  # font size for the x axis labels\n",
    "    labels=name\n",
    ")\n",
    "plt.plot()\n",
    "\n",
    "plt.subplot(236)\n",
    "dendrogram(\n",
    "    result6,\n",
    "    leaf_rotation=90.,  # rotates the x axis labels\n",
    "    leaf_font_size=10.,  # font size for the x axis labels\n",
    "    labels=name\n",
    ")\n",
    "plt.plot()\n",
    "\n",
    "plt.show()\n",
    "\n",
    "\n"
   ]
  },
  {
   "cell_type": "code",
   "execution_count": 170,
   "metadata": {},
   "outputs": [],
   "source": [
    "import pandas as pd\n",
    "#身長と体重のデータを読み込む\n",
    "childrenk = pd.read_csv(\"https://raw.githubusercontent.com/futurebridge/ZukaiML/master/childrenk.csv\",encoding=\"SHIFT-JIS\")\n",
    "\n",
    "childrenk = childrenk.dropna()"
   ]
  },
  {
   "cell_type": "code",
   "execution_count": 142,
   "metadata": {},
   "outputs": [],
   "source": [
    "from sklearn.cluster import KMeans\n",
    "\n",
    "import numpy as np\n",
    "\n",
    "import matplotlib.pyplot as plt\n",
    "\n",
    "kmeans = KMeans(n_clusters=6, init='random', random_state=0)\n",
    "\n",
    "y_kmeans = kmeans.fit_predict(childrenk)\n",
    "\n",
    "\n",
    "# グラフの作成\n",
    "\n",
    "plt.scatter(childrenk.age, childrenk.length, c=y_kmeans, s=20, cmap='viridis')\n",
    "\n",
    "centers = kmeans.cluster_centers_\n",
    "\n",
    "plt.scatter(centers[:, 0], centers[:, 1], c='black', s=100, alpha=0.3)"
   ]
  },
  {
   "cell_type": "code",
   "execution_count": 132,
   "metadata": {},
   "outputs": [
    {
     "data": {
      "image/png": "[encoded data removed]",
      "text/plain": [
       "<matplotlib.figure.Figure at 0x206d88f12e8>"
      ]
     },
     "metadata": {},
     "output_type": "display_data"
    }
   ],
   "source": [
    "plt.show()"
   ]
  },
  {
   "cell_type": "code",
   "execution_count": 133,
   "metadata": {},
   "outputs": [
    {
     "data": {
      "text/plain": [
       "array([1, 0, 1, ..., 1, 1, 1])"
      ]
     },
     "execution_count": 133,
     "metadata": {},
     "output_type": "execute_result"
    }
   ],
   "source": [
    "y_kmeans"
   ]
  },
  {
   "cell_type": "code",
   "execution_count": 134,
   "metadata": {},
   "outputs": [
    {
     "name": "stdout",
     "output_type": "stream",
     "text": [
      "37262666.469\n",
      "15239995.377\n",
      "7013734.337\n",
      "4281625.618\n",
      "2928766.587\n",
      "1979324.654\n",
      "1527259.742\n",
      "1210494.328\n",
      "950212.26\n",
      "781012.592\n"
     ]
    },
    {
     "data": {
      "image/png": "[encoded data removed]",
      "text/plain": [
       "<matplotlib.figure.Figure at 0x206daae14a8>"
      ]
     },
     "metadata": {},
     "output_type": "display_data"
    }
   ],
   "source": [
    "distortions = []\n",
    "\n",
    "for i  in range(1,11):                \n",
    "    km = KMeans(n_clusters=i,\n",
    "                init='k-means++',     \n",
    "                n_init=10,\n",
    "                max_iter=300,\n",
    "                random_state=0)\n",
    "    km.fit(childrenk)                         \n",
    "    inertia_= np.round(km.inertia_,3) \n",
    "    distortions.append(inertia_)  \n",
    "    print (inertia_)\n",
    "    \n",
    "plt.plot(range(1,11),distortions,marker='o')\n",
    "plt.xlabel('Number of clusters')\n",
    "plt.ylabel('Distortion')\n",
    "plt.show()\n"
   ]
  },
  {
   "cell_type": "code",
   "execution_count": 146,
   "metadata": {},
   "outputs": [
    {
     "data": {
      "image/png": "[encoded data removed]",
      "text/plain": [
       "<matplotlib.figure.Figure at 0x206d81f3b38>"
      ]
     },
     "metadata": {},
     "output_type": "display_data"
    }
   ],
   "source": [
    "from sklearn.cluster import KMeans\n",
    "\n",
    "import numpy as np\n",
    "\n",
    "import matplotlib.pyplot as plt\n",
    "\n",
    "kmeans = KMeans(n_clusters=3, init='random', random_state=0)\n",
    "\n",
    "y_kmeans = kmeans.fit_predict(childrenk)\n",
    "\n",
    "\n",
    "# グラフの作成\n",
    "\n",
    "plt.scatter(childrenk.age, childrenk.length, c=y_kmeans, s=20, cmap='viridis')\n",
    "\n",
    "centers = kmeans.cluster_centers_\n",
    "\n",
    "plt.scatter(centers[:, 0], centers[:, 1], c='black', s=100, alpha=0.3)\n",
    "\n",
    "plt.show()\n",
    "\n"
   ]
  },
  {
   "cell_type": "code",
   "execution_count": 151,
   "metadata": {
    "scrolled": true
   },
   "outputs": [
    {
     "name": "stdout",
     "output_type": "stream",
     "text": [
      "グループ 1 ,　シルエット係数平均 0.559827469731 個数 346\n",
      "グループ 2 ,　シルエット係数平均 0.583330439173 個数 853\n",
      "グループ 3 ,　シルエット係数平均 0.50442757531 個数 403\n"
     ]
    },
    {
     "data": {
      "image/png": "[encoded data removed]",
      "text/plain": [
       "<matplotlib.figure.Figure at 0x206d8790470>"
      ]
     },
     "metadata": {},
     "output_type": "display_data"
    }
   ],
   "source": [
    "from sklearn.metrics import silhouette_samples\n",
    "from matplotlib import cm\n",
    "\n",
    "cluster_labels = np.unique(y_kmeans)       # y_kmの要素の中で重複を無くす\n",
    "n_clusters=cluster_labels.shape[0]     # 配列の長さを返す。つまりここでは n_clustersで指定した3となる\n",
    "\n",
    "# シルエット係数を計算  \n",
    "silhouette_vals = silhouette_samples(childrenk,y_kmeans,metric='euclidean')  # サンプルデータ, クラスター番号、ユークリッド距離でシルエット係数計算\n",
    "y_ax_lower, y_ax_upper= 0,0\n",
    "yticks = []\n",
    "\n",
    "for i,c in enumerate(cluster_labels):\n",
    "        c_silhouette_vals = silhouette_vals[y_kmeans==c]      # cluster_labelsには 0-5の値\n",
    "        c_silhouette_vals.sort()\n",
    "        y_ax_upper += len(c_silhouette_vals)              # サンプルの個数をグループごとに足してy軸の最大値を決定\n",
    "        color = cm.jet(float(i)/n_clusters)               # 色の値を作る\n",
    "        plt.barh(range(y_ax_lower,y_ax_upper),            # 棒グラフのを描画（底辺の範囲を指定）\n",
    "                         c_silhouette_vals,               # 棒の幅（1サンプルを表す）\n",
    "                         height=1.0,                      # 棒の高さ\n",
    "                         edgecolor='none',                # 棒の端の色\n",
    "                         color=color)                     # 棒の色\n",
    "        yticks.append((y_ax_lower+y_ax_upper)/2)          # ラベルの表示位置を追加\n",
    "        y_ax_lower += len(c_silhouette_vals)              # 底辺の値に棒の幅を追加\n",
    "        print (\"グループ\",i+1,\",　シルエット係数平均\",np.mean(c_silhouette_vals),\"個数\",len(c_silhouette_vals))\n",
    "\n",
    "        \n",
    "silhouette_avg = np.mean(silhouette_vals)                 # シルエット係数の平均値\n",
    "plt.axvline(silhouette_avg,color=\"red\",linestyle=\"--\")    # 係数の平均値に破線を引く \n",
    "plt.yticks(yticks,cluster_labels + 1)                     # クラスタレベルを表示\n",
    "plt.ylabel('Cluster')\n",
    "plt.xlabel('silhouette coefficient')\n",
    "plt.show()"
   ]
  },
  {
   "cell_type": "code",
   "execution_count": 153,
   "metadata": {},
   "outputs": [
    {
     "data": {
      "text/plain": [
       "0.55840541946988986"
      ]
     },
     "execution_count": 153,
     "metadata": {},
     "output_type": "execute_result"
    }
   ],
   "source": [
    "silhouette_avg"
   ]
  },
  {
   "cell_type": "code",
   "execution_count": null,
   "metadata": {},
   "outputs": [],
   "source": []
  },
  {
   "cell_type": "code",
   "execution_count": null,
   "metadata": {},
   "outputs": [],
   "source": []
  },
  {
   "cell_type": "code",
   "execution_count": null,
   "metadata": {
    "collapsed": true
   },
   "outputs": [],
   "source": []
  },
  {
   "cell_type": "code",
   "execution_count": null,
   "metadata": {},
   "outputs": [],
   "source": []
  },
  {
   "cell_type": "code",
   "execution_count": null,
   "metadata": {
    "collapsed": true
   },
   "outputs": [],
   "source": []
  }
 ],
 "metadata": {
  "kernelspec": {
   "display_name": "Python 3",
   "language": "python",
   "name": "python3"
  },
  "language_info": {
   "codemirror_mode": {
    "name": "ipython",
    "version": 3
   },
   "file_extension": ".py",
   "mimetype": "text/x-python",
   "name": "python",
   "nbconvert_exporter": "python",
   "pygments_lexer": "ipython3",
   "version": "3.6.1"
  }
 },
 "nbformat": 4,
 "nbformat_minor": 2
}

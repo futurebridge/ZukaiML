{
 "cells": [
  {
   "cell_type": "code",
   "execution_count": 1,
   "metadata": {
    "collapsed": true
   },
   "outputs": [],
   "source": [
    "import pandas as pd\n",
    "df = pd.DataFrame({'コク': [4,2,5,5,5,3,3,3,2,2,1],\n",
    "                              'キレ': [5,4,4,3,4,4,4,3,4,3,3],\n",
    "                              '香り': [2,1,3,4,5,3,2,2,3,2,2]},\n",
    "                  index=['スーパードライ', '金麦','一番搾り', 'ヱビス', 'プレミアムモルツ', '淡麗', \n",
    "                            'のどごし', '麦とホップ', 'クリアアサヒ','ハイネケン','バドワイザー'])\n"
   ]
  },
  {
   "cell_type": "code",
   "execution_count": 5,
   "metadata": {},
   "outputs": [
    {
     "data": {
      "text/html": [
       "<div>\n",
       "<style>\n",
       "    .dataframe thead tr:only-child th {\n",
       "        text-align: right;\n",
       "    }\n",
       "\n",
       "    .dataframe thead th {\n",
       "        text-align: left;\n",
       "    }\n",
       "\n",
       "    .dataframe tbody tr th {\n",
       "        vertical-align: top;\n",
       "    }\n",
       "</style>\n",
       "<table border=\"1\" class=\"dataframe\">\n",
       "  <thead>\n",
       "    <tr style=\"text-align: right;\">\n",
       "      <th></th>\n",
       "      <th>キレ</th>\n",
       "      <th>コク</th>\n",
       "      <th>香り</th>\n",
       "    </tr>\n",
       "  </thead>\n",
       "  <tbody>\n",
       "    <tr>\n",
       "      <th>キレ</th>\n",
       "      <td>1.000000</td>\n",
       "      <td>0.280900</td>\n",
       "      <td>-0.012551</td>\n",
       "    </tr>\n",
       "    <tr>\n",
       "      <th>コク</th>\n",
       "      <td>0.280900</td>\n",
       "      <td>1.000000</td>\n",
       "      <td>0.683464</td>\n",
       "    </tr>\n",
       "    <tr>\n",
       "      <th>香り</th>\n",
       "      <td>-0.012551</td>\n",
       "      <td>0.683464</td>\n",
       "      <td>1.000000</td>\n",
       "    </tr>\n",
       "  </tbody>\n",
       "</table>\n",
       "</div>"
      ],
      "text/plain": [
       "          キレ        コク        香り\n",
       "キレ  1.000000  0.280900 -0.012551\n",
       "コク  0.280900  1.000000  0.683464\n",
       "香り -0.012551  0.683464  1.000000"
      ]
     },
     "execution_count": 5,
     "metadata": {},
     "output_type": "execute_result"
    }
   ],
   "source": [
    "df.corr()"
   ]
  },
  {
   "cell_type": "code",
   "execution_count": null,
   "metadata": {},
   "outputs": [],
   "source": []
  },
  {
   "cell_type": "code",
   "execution_count": 3,
   "metadata": {
    "collapsed": true
   },
   "outputs": [],
   "source": [
    "import numpy  as np\n",
    "\n",
    "#固有値、固有ベクトルを求める\n",
    "W,v=np.linalg.eig(df.corr())\n"
   ]
  },
  {
   "cell_type": "code",
   "execution_count": 4,
   "metadata": {},
   "outputs": [
    {
     "data": {
      "text/html": [
       "<div>\n",
       "<style>\n",
       "    .dataframe thead tr:only-child th {\n",
       "        text-align: right;\n",
       "    }\n",
       "\n",
       "    .dataframe thead th {\n",
       "        text-align: left;\n",
       "    }\n",
       "\n",
       "    .dataframe tbody tr th {\n",
       "        vertical-align: top;\n",
       "    }\n",
       "</style>\n",
       "<table border=\"1\" class=\"dataframe\">\n",
       "  <thead>\n",
       "    <tr style=\"text-align: right;\">\n",
       "      <th></th>\n",
       "      <th>0</th>\n",
       "    </tr>\n",
       "  </thead>\n",
       "  <tbody>\n",
       "    <tr>\n",
       "      <th>0</th>\n",
       "      <td>0.256584</td>\n",
       "    </tr>\n",
       "    <tr>\n",
       "      <th>1</th>\n",
       "      <td>1.008825</td>\n",
       "    </tr>\n",
       "    <tr>\n",
       "      <th>2</th>\n",
       "      <td>1.734592</td>\n",
       "    </tr>\n",
       "  </tbody>\n",
       "</table>\n",
       "</div>"
      ],
      "text/plain": [
       "          0\n",
       "0  0.256584\n",
       "1  1.008825\n",
       "2  1.734592"
      ]
     },
     "execution_count": 4,
     "metadata": {},
     "output_type": "execute_result"
    }
   ],
   "source": [
    "pd.DataFrame(W)"
   ]
  },
  {
   "cell_type": "code",
   "execution_count": null,
   "metadata": {},
   "outputs": [],
   "source": [
    "pd.DataFrame(v)"
   ]
  },
  {
   "cell_type": "code",
   "execution_count": 6,
   "metadata": {},
   "outputs": [
    {
     "data": {
      "image/png": "[encoded data removed]",
      "text/plain": [
       "<matplotlib.figure.Figure at 0x2217b4b07f0>"
      ]
     },
     "metadata": {},
     "output_type": "display_data"
    }
   ],
   "source": [
    "import matplotlib.pyplot as plt\n",
    "plt.scatter(v[:, 2], v[:, 1], c='black', s=200, alpha=0.3)\n",
    "plt.axvline(0.3,color=\"gray\",linestyle=\"--\")\n",
    "plt.axhline(-0.2,color=\"gray\",linestyle=\"--\")\n",
    "plt.xlabel(\"PC1\")\n",
    "plt.ylabel(\"PC2\")\n",
    "\n",
    "plt.show()\n"
   ]
  },
  {
   "cell_type": "code",
   "execution_count": null,
   "metadata": {},
   "outputs": [],
   "source": [
    "v[:, 2]"
   ]
  },
  {
   "cell_type": "code",
   "execution_count": null,
   "metadata": {},
   "outputs": [],
   "source": [
    "pd.DataFrame(v)"
   ]
  },
  {
   "cell_type": "code",
   "execution_count": 8,
   "metadata": {},
   "outputs": [
    {
     "data": {
      "text/plain": [
       "array([[ 0.08603689,  0.81094108,  0.57876785],\n",
       "       [ 0.61229876,  0.41522475, -0.67281396]])"
      ]
     },
     "execution_count": 8,
     "metadata": {},
     "output_type": "execute_result"
    }
   ],
   "source": [
    "from sklearn.decomposition import PCA\n",
    "#２つの成分で分析\n",
    "pca = PCA(n_components=2)\n",
    "pca.fit(df)\n",
    "x=pca.fit_transform(df)\n",
    "\n",
    "#主成分の寄与率をもとめる\n",
    "pca.explained_variance_ratio_\n",
    "\n",
    "#各主成分をもとめる\n",
    "pca.components_\n"
   ]
  },
  {
   "cell_type": "code",
   "execution_count": 9,
   "metadata": {},
   "outputs": [
    {
     "data": {
      "text/html": [
       "<div>\n",
       "<style>\n",
       "    .dataframe thead tr:only-child th {\n",
       "        text-align: right;\n",
       "    }\n",
       "\n",
       "    .dataframe thead th {\n",
       "        text-align: left;\n",
       "    }\n",
       "\n",
       "    .dataframe tbody tr th {\n",
       "        vertical-align: top;\n",
       "    }\n",
       "</style>\n",
       "<table border=\"1\" class=\"dataframe\">\n",
       "  <thead>\n",
       "    <tr style=\"text-align: right;\">\n",
       "      <th></th>\n",
       "      <th>第１主成分</th>\n",
       "      <th>第２主成分</th>\n",
       "    </tr>\n",
       "  </thead>\n",
       "  <tbody>\n",
       "    <tr>\n",
       "      <th>スーパードライ</th>\n",
       "      <td>0.404692</td>\n",
       "      <td>1.547173</td>\n",
       "    </tr>\n",
       "    <tr>\n",
       "      <th>金麦</th>\n",
       "      <td>-1.881995</td>\n",
       "      <td>0.777239</td>\n",
       "    </tr>\n",
       "    <tr>\n",
       "      <th>一番搾り</th>\n",
       "      <td>1.708364</td>\n",
       "      <td>0.677285</td>\n",
       "    </tr>\n",
       "    <tr>\n",
       "      <th>ヱビス</th>\n",
       "      <td>2.201095</td>\n",
       "      <td>-0.607828</td>\n",
       "    </tr>\n",
       "    <tr>\n",
       "      <th>プレミアムモルツ</th>\n",
       "      <td>2.865900</td>\n",
       "      <td>-0.668343</td>\n",
       "    </tr>\n",
       "    <tr>\n",
       "      <th>淡麗</th>\n",
       "      <td>0.086482</td>\n",
       "      <td>-0.153164</td>\n",
       "    </tr>\n",
       "    <tr>\n",
       "      <th>のどごし</th>\n",
       "      <td>-0.492286</td>\n",
       "      <td>0.519650</td>\n",
       "    </tr>\n",
       "    <tr>\n",
       "      <th>麦とホップ</th>\n",
       "      <td>-0.578323</td>\n",
       "      <td>-0.092649</td>\n",
       "    </tr>\n",
       "    <tr>\n",
       "      <th>クリアアサヒ</th>\n",
       "      <td>-0.724459</td>\n",
       "      <td>-0.568389</td>\n",
       "    </tr>\n",
       "    <tr>\n",
       "      <th>ハイネケン</th>\n",
       "      <td>-1.389264</td>\n",
       "      <td>-0.507874</td>\n",
       "    </tr>\n",
       "    <tr>\n",
       "      <th>バドワイザー</th>\n",
       "      <td>-2.200205</td>\n",
       "      <td>-0.923099</td>\n",
       "    </tr>\n",
       "  </tbody>\n",
       "</table>\n",
       "</div>"
      ],
      "text/plain": [
       "             第１主成分     第２主成分\n",
       "スーパードライ   0.404692  1.547173\n",
       "金麦       -1.881995  0.777239\n",
       "一番搾り      1.708364  0.677285\n",
       "ヱビス       2.201095 -0.607828\n",
       "プレミアムモルツ  2.865900 -0.668343\n",
       "淡麗        0.086482 -0.153164\n",
       "のどごし     -0.492286  0.519650\n",
       "麦とホップ    -0.578323 -0.092649\n",
       "クリアアサヒ   -0.724459 -0.568389\n",
       "ハイネケン    -1.389264 -0.507874\n",
       "バドワイザー   -2.200205 -0.923099"
      ]
     },
     "execution_count": 9,
     "metadata": {},
     "output_type": "execute_result"
    }
   ],
   "source": [
    "pd.DataFrame(x,index=df.index,columns=['第１主成分','第２主成分'])"
   ]
  },
  {
   "cell_type": "code",
   "execution_count": 10,
   "metadata": {},
   "outputs": [
    {
     "data": {
      "image/png": "[encoded data removed]",
      "text/plain": [
       "<matplotlib.figure.Figure at 0x2217ce70be0>"
      ]
     },
     "metadata": {},
     "output_type": "display_data"
    }
   ],
   "source": [
    "import matplotlib.cm as cm\n",
    "\n",
    "#画像サイズを決める\n",
    "plt.figure(figsize=(10,10))\n",
    "   \n",
    "#点ごとに色を変える\n",
    "colors = [plt.cm.hsv(25*i,1) for i in range(len(df.index))]\n",
    "\n",
    "for i in range(len(df.index)) :\n",
    "    plt.scatter(x[i,0],x[i,1],c=colors[i],label=df.index[i],s=150, alpha=0.5)\n",
    "\n",
    "plt.xlabel(\"第１主成分\")\n",
    "plt.ylabel(\"第２主成分\")\n",
    "\n",
    "plt.legend()\n",
    "\n",
    "plt.show()\n",
    "\n"
   ]
  },
  {
   "cell_type": "code",
   "execution_count": null,
   "metadata": {},
   "outputs": [],
   "source": [
    "import pandas as pd\n",
    "gakuryoku = pd.read_csv(\"https://raw.githubusercontent.com/futurebridge/ZukaiML/master/gakuryoku.csv\",encoding=\"SHIFT-JIS\")\n"
   ]
  },
  {
   "cell_type": "code",
   "execution_count": null,
   "metadata": {},
   "outputs": [],
   "source": [
    "gakuryoku"
   ]
  },
  {
   "cell_type": "code",
   "execution_count": null,
   "metadata": {},
   "outputs": [],
   "source": [
    "gakuryoku.corr()"
   ]
  },
  {
   "cell_type": "code",
   "execution_count": null,
   "metadata": {
    "collapsed": true
   },
   "outputs": [],
   "source": [
    "import numpy  as np\n",
    "\n",
    "#テストデータの固有値、固有ベクトルを求める\n",
    "gW,gv=np.linalg.eig(gakuryoku.corr())\n"
   ]
  },
  {
   "cell_type": "code",
   "execution_count": null,
   "metadata": {},
   "outputs": [],
   "source": [
    "pd.DataFrame(gW)"
   ]
  },
  {
   "cell_type": "code",
   "execution_count": null,
   "metadata": {},
   "outputs": [],
   "source": [
    "#package FactorAnalyzerを利用\n",
    "#Anaconda prompt でpip install FactorAnalyzer \n",
    "from factor_analyzer import FactorAnalyzer \n",
    "\n",
    "fa = FactorAnalyzer(n_factors=2,rotation='promax')\n",
    "fa.fit(gakuryoku)\n"
   ]
  },
  {
   "cell_type": "code",
   "execution_count": null,
   "metadata": {},
   "outputs": [],
   "source": [
    "pd.DataFrame(fa.get_uniquenesses(),index=gakuryoku.columns,columns=[\"独自因子\"])"
   ]
  },
  {
   "cell_type": "code",
   "execution_count": null,
   "metadata": {},
   "outputs": [],
   "source": [
    "pd.DataFrame(fa.loadings_,index=gakuryoku.columns,columns=[\"因子負荷量１：文系\",\"因子負荷量２：理系\"])"
   ]
  },
  {
   "cell_type": "code",
   "execution_count": null,
   "metadata": {},
   "outputs": [],
   "source": [
    "\n",
    "#回転なし\n",
    "fa = FactorAnalyzer(n_factors=2,rotation=None)\n",
    "fa.fit(gakuryoku)\n",
    "\n",
    "#直行回転\n",
    "fav = FactorAnalyzer(n_factors=2,rotation='varimax')\n",
    "fav.fit(gakuryoku)\n",
    "\n",
    "#斜交回転\n",
    "fap = FactorAnalyzer(n_factors=2,rotation='promax')\n",
    "fap.fit(gakuryoku)\n",
    "\n",
    "\n",
    "\n",
    "\n",
    "\n"
   ]
  },
  {
   "cell_type": "code",
   "execution_count": null,
   "metadata": {},
   "outputs": [],
   "source": [
    "pd.DataFrame(fa.loadings_,index=gakuryoku.columns,columns=[\"回転なし：文系\",\"回転なし：理系\"])"
   ]
  },
  {
   "cell_type": "code",
   "execution_count": null,
   "metadata": {},
   "outputs": [],
   "source": [
    "pd.DataFrame(fa.get_uniquenesses(),index=gakuryoku.columns,columns=[\"回転なし独自因子\"])"
   ]
  },
  {
   "cell_type": "code",
   "execution_count": null,
   "metadata": {},
   "outputs": [],
   "source": [
    "pd.DataFrame(fap.loadings_,index=gakuryoku.columns,columns=[\"直交回転：文系\",\"直交回転：理系\"])"
   ]
  },
  {
   "cell_type": "code",
   "execution_count": null,
   "metadata": {},
   "outputs": [],
   "source": [
    "pd.DataFrame(fav.loadings_,index=gakuryoku.columns,columns=[\"斜交回転：文系\",\"斜交回転：理系\"])"
   ]
  },
  {
   "cell_type": "code",
   "execution_count": null,
   "metadata": {
    "collapsed": true
   },
   "outputs": [],
   "source": []
  }
 ],
 "metadata": {
  "kernelspec": {
   "display_name": "Python 3",
   "language": "python",
   "name": "python3"
  },
  "language_info": {
   "codemirror_mode": {
    "name": "ipython",
    "version": 3
   },
   "file_extension": ".py",
   "mimetype": "text/x-python",
   "name": "python",
   "nbconvert_exporter": "python",
   "pygments_lexer": "ipython3",
   "version": "3.6.1"
  }
 },
 "nbformat": 4,
 "nbformat_minor": 2
}

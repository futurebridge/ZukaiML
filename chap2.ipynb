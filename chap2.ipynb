{
 "cells": [
  {
   "cell_type": "markdown",
   "metadata": {},
   "source": [
    "### ハンズオン2-1 相関係数を求める"
   ]
  },
  {
   "cell_type": "code",
   "execution_count": 3,
   "metadata": {},
   "outputs": [
    {
     "data": {
      "text/html": [
       "<div>\n",
       "<style>\n",
       "    .dataframe thead tr:only-child th {\n",
       "        text-align: right;\n",
       "    }\n",
       "\n",
       "    .dataframe thead th {\n",
       "        text-align: left;\n",
       "    }\n",
       "\n",
       "    .dataframe tbody tr th {\n",
       "        vertical-align: top;\n",
       "    }\n",
       "</style>\n",
       "<table border=\"1\" class=\"dataframe\">\n",
       "  <thead>\n",
       "    <tr style=\"text-align: right;\">\n",
       "      <th></th>\n",
       "      <th>年齢</th>\n",
       "      <th>身長</th>\n",
       "    </tr>\n",
       "  </thead>\n",
       "  <tbody>\n",
       "    <tr>\n",
       "      <th>0</th>\n",
       "      <td>1.39</td>\n",
       "      <td>75.6</td>\n",
       "    </tr>\n",
       "    <tr>\n",
       "      <th>1</th>\n",
       "      <td>2.32</td>\n",
       "      <td>85.1</td>\n",
       "    </tr>\n",
       "    <tr>\n",
       "      <th>2</th>\n",
       "      <td>3.56</td>\n",
       "      <td>90.9</td>\n",
       "    </tr>\n",
       "    <tr>\n",
       "      <th>3</th>\n",
       "      <td>4.13</td>\n",
       "      <td>105.7</td>\n",
       "    </tr>\n",
       "  </tbody>\n",
       "</table>\n",
       "</div>"
      ],
      "text/plain": [
       "     年齢     身長\n",
       "0  1.39   75.6\n",
       "1  2.32   85.1\n",
       "2  3.56   90.9\n",
       "3  4.13  105.7"
      ]
     },
     "execution_count": 3,
     "metadata": {},
     "output_type": "execute_result"
    }
   ],
   "source": [
    "import pandas as pd\n",
    "#身長と体重のデータを読み込む\n",
    "\n",
    "children = pd.DataFrame({'年齢':[1.39,2.32,3.56,4.13],\n",
    "                     '身長':[75.6,85.1,90.9,105.7]})\n",
    "\n",
    "#読み込んだデータを表示\n",
    "children"
   ]
  },
  {
   "cell_type": "code",
   "execution_count": 5,
   "metadata": {},
   "outputs": [
    {
     "name": "stdout",
     "output_type": "stream",
     "text": [
      "年齢の平均: 2.85\n",
      "身長の平均: 89.325\n"
     ]
    }
   ],
   "source": [
    "import numpy as np\n",
    "\n",
    "#x,yの平均を求める\n",
    "x,y = np.mean(children)\n",
    "\n",
    "print (\"年齢の平均:\",round(x,3)) #round関数で小数点３桁で切り捨て\n",
    "print (\"身長の平均:\",y)\n",
    "\n"
   ]
  },
  {
   "cell_type": "code",
   "execution_count": 7,
   "metadata": {},
   "outputs": [
    {
     "name": "stdout",
     "output_type": "stream",
     "text": [
      "0 年齢 1.39 身長 75.6 身長×年齢 20.039\n",
      "1 年齢 2.32 身長 85.1 身長×年齢 22.278\n",
      "2 年齢 3.56 身長 90.9 身長×年齢 23.396\n",
      "3 年齢 4.13 身長 105.7 身長×年齢 44.356\n",
      "共分散: 11.089\n"
     ]
    }
   ],
   "source": [
    "#共分散を求める\n",
    "#データ個数分だけ (x-x平均)x(y-y平均)を繰り返す\n",
    "sum=0\n",
    "for i in range(0,len(children)):\n",
    "  sum += ((children[\"年齢\"][i]-x)*(children[\"身長\"][i]-y))\n",
    "  print(i,\"年齢\",children[\"年齢\"][i],\"身長\",children[\"身長\"][i],\"身長×年齢\",np.round(sum,3))\n",
    "\n",
    "#データ個数で割った値を返す\n",
    "cov_a = sum/len(children)\n",
    "\n",
    "print (\"共分散:\",np.round(cov_a,3))\n"
   ]
  },
  {
   "cell_type": "code",
   "execution_count": 10,
   "metadata": {},
   "outputs": [
    {
     "name": "stdout",
     "output_type": "stream",
     "text": [
      "相関係数: 0.9517402339704732\n"
     ]
    }
   ],
   "source": [
    "\n",
    "#年齢と身長の標準偏差を求める\n",
    "a_std,b_std=np.std(children)\n",
    "\n",
    "#相関係数を求める\n",
    "#相関係数 = (共分散)/(身長の標準偏差x年齢の標準偏差)\n",
    "\n",
    "print (\"相関係数:\",cov_a/(a_std*b_std))\n",
    "\n"
   ]
  },
  {
   "cell_type": "markdown",
   "metadata": {},
   "source": [
    "### ハンズオン２－２　最小二乗法による値予測"
   ]
  },
  {
   "cell_type": "code",
   "execution_count": 13,
   "metadata": {},
   "outputs": [
    {
     "name": "stdout",
     "output_type": "stream",
     "text": [
      "傾きa 9.737870472008785 切片b 61.572069154774965\n"
     ]
    }
   ],
   "source": [
    "#最小二乗法による傾きa と　切片bを求める\n",
    "#分散を求める\n",
    "a_var,b_var = np.var(children)\n",
    "#傾きa = 共分散/分散\n",
    "a = cov_a/a_var\n",
    "#切片 b= y平均 - a x x平均\n",
    "b = y - a * x\n",
    "#傾き、切片を表示\n",
    "print (\"傾きa\",a, \"切片b\",b)\n"
   ]
  },
  {
   "cell_type": "markdown",
   "metadata": {},
   "source": [
    "### ハンズオン２－３　決定係数を求める"
   ]
  },
  {
   "cell_type": "code",
   "execution_count": 14,
   "metadata": {},
   "outputs": [
    {
     "name": "stdout",
     "output_type": "stream",
     "text": [
      "0 年齢: 1.39 身長(実測値): 75.6 身長(予測値): 75.11 残差: 0.4899999999999949\n",
      "1 年齢: 2.32 身長(実測値): 85.1 身長(予測値): 84.16 残差: 0.9399999999999977\n",
      "2 年齢: 3.56 身長(実測値): 90.9 身長(予測値): 96.24 残差: -5.339999999999989\n",
      "3 年齢: 4.13 身長(実測値): 105.7 身長(予測値): 101.79 残差: 3.9099999999999966\n"
     ]
    }
   ],
   "source": [
    "#入力：テストデータの年齢、出力：身長\n",
    "for i in range(0,len(children)):\n",
    "#最小二乗法で求めた傾きa、切片bをもとに予測値testを求める\n",
    "  test= ((children[\"年齢\"][i]*a)+b)\n",
    "#年齢（実測値）　身長（実測値）　身長（予測値）　身長の残差を表示\n",
    "  print(i,\"年齢:\",children[\"年齢\"][i],\"身長(実測値):\",children[\"身長\"][i],\"身長(予測値):\",round(test,2)\n",
    "       ,\"残差:\",children[\"身長\"][i]-round(test,2))\n",
    "\n"
   ]
  },
  {
   "cell_type": "code",
   "execution_count": 18,
   "metadata": {},
   "outputs": [
    {
     "name": "stdout",
     "output_type": "stream",
     "text": [
      "決定係数 回帰平方和/全体平方和 0.906\n",
      "決定係数 1-残差平方和/全体平方和 0.906\n"
     ]
    }
   ],
   "source": [
    "##決定係数をもとめる\n",
    "#残差平方和,回帰平方和、全体平方和を求める\n",
    "z_sum=0\n",
    "k_sum=0\n",
    "t_sum=0\n",
    "for i in range(0,len(children)):\n",
    "    #残差平方和 y(実測値) - 予測値)^2\n",
    "    z_sum += (children[\"身長\"][i]-(children[\"年齢\"][i]*a+b))**2\n",
    "    #回帰平方和 予測値 - 平均\n",
    "    k_sum+= ((children[\"年齢\"][i]*a+b)-y)**2\n",
    "    #全体平方和 y(実測値) - 平均\n",
    "    t_sum+= ((children[\"身長\"][i])-y)**2\n",
    "#決定係数を求めて、表示\n",
    "print (\"決定係数 回帰平方和/全体平方和\", np.round(k_sum/t_sum,3))\n",
    "print (\"決定係数 1-残差平方和/全体平方和\",1 - round(z_sum/t_sum,3))\n",
    "\n",
    "\n"
   ]
  },
  {
   "cell_type": "markdown",
   "metadata": {},
   "source": [
    "### ハンズオン２－４　ｔ値とｐ値を求める"
   ]
  },
  {
   "cell_type": "code",
   "execution_count": 19,
   "metadata": {},
   "outputs": [
    {
     "name": "stdout",
     "output_type": "stream",
     "text": [
      "標準誤差: 2.22\n"
     ]
    }
   ],
   "source": [
    "#標準誤差を求める\n",
    "#残差平方和を自由度を引いた個数でかける\n",
    "se1=z_sum*(1/(len(children)-2))\n",
    "# x-x平均の平方和\n",
    "x_sum=0\n",
    "for i in range(0,len(children)):\n",
    "    x_sum += (children[\"年齢\"][i]-x)**2\n",
    "se2=np.sqrt((se1/x_sum))\n",
    "#標準誤差を求める\n",
    "print (\"標準誤差:\",round(se2,3))"
   ]
  },
  {
   "cell_type": "code",
   "execution_count": 25,
   "metadata": {},
   "outputs": [
    {
     "name": "stdout",
     "output_type": "stream",
     "text": [
      "t値: 4.386\n"
     ]
    }
   ],
   "source": [
    "#t値を求める \n",
    "tval = a/se2\n",
    "print (\"t値:\",round(tval,3))"
   ]
  },
  {
   "cell_type": "code",
   "execution_count": 21,
   "metadata": {},
   "outputs": [
    {
     "data": {
      "text/plain": [
       "0.0013498980316301035"
      ]
     },
     "execution_count": 21,
     "metadata": {},
     "output_type": "execute_result"
    }
   ],
   "source": [
    "#t値が１の場合のp値\n",
    "from scipy.stats import norm\n",
    "1-norm.cdf(3, 0, 1)"
   ]
  },
  {
   "cell_type": "markdown",
   "metadata": {},
   "source": [
    "### ハンズオン２－５　複数の説明変数による値予測"
   ]
  },
  {
   "cell_type": "code",
   "execution_count": 29,
   "metadata": {
    "collapsed": true
   },
   "outputs": [],
   "source": [
    "#重回帰分析\n",
    "import pandas as pd\n",
    "#身長と体重のデータを読み込む\n",
    "childrenm = pd.read_csv(\"https://raw.githubusercontent.com/futurebridge/ZukaiML/master/data/childrenm.csv\",encoding=\"SHIFT-JIS\")\n"
   ]
  },
  {
   "cell_type": "code",
   "execution_count": 30,
   "metadata": {},
   "outputs": [
    {
     "data": {
      "text/html": [
       "<div>\n",
       "<style>\n",
       "    .dataframe thead tr:only-child th {\n",
       "        text-align: right;\n",
       "    }\n",
       "\n",
       "    .dataframe thead th {\n",
       "        text-align: left;\n",
       "    }\n",
       "\n",
       "    .dataframe tbody tr th {\n",
       "        vertical-align: top;\n",
       "    }\n",
       "</style>\n",
       "<table border=\"1\" class=\"dataframe\">\n",
       "  <thead>\n",
       "    <tr style=\"text-align: right;\">\n",
       "      <th></th>\n",
       "      <th>身長</th>\n",
       "      <th>年齢</th>\n",
       "      <th>体重</th>\n",
       "      <th>手長</th>\n",
       "      <th>手首</th>\n",
       "    </tr>\n",
       "  </thead>\n",
       "  <tbody>\n",
       "    <tr>\n",
       "      <th>0</th>\n",
       "      <td>1022</td>\n",
       "      <td>4.47</td>\n",
       "      <td>20.6</td>\n",
       "      <td>111</td>\n",
       "      <td>39</td>\n",
       "    </tr>\n",
       "    <tr>\n",
       "      <th>1</th>\n",
       "      <td>835</td>\n",
       "      <td>2.11</td>\n",
       "      <td>11.8</td>\n",
       "      <td>97</td>\n",
       "      <td>27</td>\n",
       "    </tr>\n",
       "    <tr>\n",
       "      <th>2</th>\n",
       "      <td>958</td>\n",
       "      <td>3.56</td>\n",
       "      <td>13.6</td>\n",
       "      <td>107</td>\n",
       "      <td>2</td>\n",
       "    </tr>\n",
       "    <tr>\n",
       "      <th>3</th>\n",
       "      <td>909</td>\n",
       "      <td>2.91</td>\n",
       "      <td>12.4</td>\n",
       "      <td>104</td>\n",
       "      <td>28</td>\n",
       "    </tr>\n",
       "    <tr>\n",
       "      <th>4</th>\n",
       "      <td>1044</td>\n",
       "      <td>4.25</td>\n",
       "      <td>16.6</td>\n",
       "      <td>120</td>\n",
       "      <td>1</td>\n",
       "    </tr>\n",
       "    <tr>\n",
       "      <th>5</th>\n",
       "      <td>1023</td>\n",
       "      <td>3.93</td>\n",
       "      <td>16.2</td>\n",
       "      <td>118</td>\n",
       "      <td>26</td>\n",
       "    </tr>\n",
       "    <tr>\n",
       "      <th>6</th>\n",
       "      <td>997</td>\n",
       "      <td>4.20</td>\n",
       "      <td>14.6</td>\n",
       "      <td>110</td>\n",
       "      <td>39</td>\n",
       "    </tr>\n",
       "    <tr>\n",
       "      <th>7</th>\n",
       "      <td>1033</td>\n",
       "      <td>3.99</td>\n",
       "      <td>16.0</td>\n",
       "      <td>112</td>\n",
       "      <td>2</td>\n",
       "    </tr>\n",
       "    <tr>\n",
       "      <th>8</th>\n",
       "      <td>1035</td>\n",
       "      <td>4.13</td>\n",
       "      <td>17.6</td>\n",
       "      <td>120</td>\n",
       "      <td>9</td>\n",
       "    </tr>\n",
       "    <tr>\n",
       "      <th>9</th>\n",
       "      <td>1057</td>\n",
       "      <td>4.33</td>\n",
       "      <td>18.5</td>\n",
       "      <td>119</td>\n",
       "      <td>9</td>\n",
       "    </tr>\n",
       "    <tr>\n",
       "      <th>10</th>\n",
       "      <td>994</td>\n",
       "      <td>3.74</td>\n",
       "      <td>14.3</td>\n",
       "      <td>111</td>\n",
       "      <td>17</td>\n",
       "    </tr>\n",
       "    <tr>\n",
       "      <th>11</th>\n",
       "      <td>1110</td>\n",
       "      <td>4.47</td>\n",
       "      <td>22.9</td>\n",
       "      <td>120</td>\n",
       "      <td>43</td>\n",
       "    </tr>\n",
       "    <tr>\n",
       "      <th>12</th>\n",
       "      <td>1038</td>\n",
       "      <td>4.36</td>\n",
       "      <td>16.3</td>\n",
       "      <td>123</td>\n",
       "      <td>25</td>\n",
       "    </tr>\n",
       "    <tr>\n",
       "      <th>13</th>\n",
       "      <td>1049</td>\n",
       "      <td>4.21</td>\n",
       "      <td>15.9</td>\n",
       "      <td>112</td>\n",
       "      <td>7</td>\n",
       "    </tr>\n",
       "    <tr>\n",
       "      <th>14</th>\n",
       "      <td>877</td>\n",
       "      <td>2.32</td>\n",
       "      <td>12.6</td>\n",
       "      <td>104</td>\n",
       "      <td>28</td>\n",
       "    </tr>\n",
       "    <tr>\n",
       "      <th>15</th>\n",
       "      <td>851</td>\n",
       "      <td>2.37</td>\n",
       "      <td>12.6</td>\n",
       "      <td>97</td>\n",
       "      <td>9</td>\n",
       "    </tr>\n",
       "    <tr>\n",
       "      <th>16</th>\n",
       "      <td>879</td>\n",
       "      <td>2.17</td>\n",
       "      <td>12.8</td>\n",
       "      <td>100</td>\n",
       "      <td>25</td>\n",
       "    </tr>\n",
       "  </tbody>\n",
       "</table>\n",
       "</div>"
      ],
      "text/plain": [
       "      身長    年齢    体重   手長  手首\n",
       "0   1022  4.47  20.6  111  39\n",
       "1    835  2.11  11.8   97  27\n",
       "2    958  3.56  13.6  107   2\n",
       "3    909  2.91  12.4  104  28\n",
       "4   1044  4.25  16.6  120   1\n",
       "5   1023  3.93  16.2  118  26\n",
       "6    997  4.20  14.6  110  39\n",
       "7   1033  3.99  16.0  112   2\n",
       "8   1035  4.13  17.6  120   9\n",
       "9   1057  4.33  18.5  119   9\n",
       "10   994  3.74  14.3  111  17\n",
       "11  1110  4.47  22.9  120  43\n",
       "12  1038  4.36  16.3  123  25\n",
       "13  1049  4.21  15.9  112   7\n",
       "14   877  2.32  12.6  104  28\n",
       "15   851  2.37  12.6   97   9\n",
       "16   879  2.17  12.8  100  25"
      ]
     },
     "execution_count": 30,
     "metadata": {},
     "output_type": "execute_result"
    }
   ],
   "source": [
    "childrenm"
   ]
  },
  {
   "cell_type": "code",
   "execution_count": 31,
   "metadata": {},
   "outputs": [
    {
     "data": {
      "text/html": [
       "<div>\n",
       "<style>\n",
       "    .dataframe thead tr:only-child th {\n",
       "        text-align: right;\n",
       "    }\n",
       "\n",
       "    .dataframe thead th {\n",
       "        text-align: left;\n",
       "    }\n",
       "\n",
       "    .dataframe tbody tr th {\n",
       "        vertical-align: top;\n",
       "    }\n",
       "</style>\n",
       "<table border=\"1\" class=\"dataframe\">\n",
       "  <thead>\n",
       "    <tr style=\"text-align: right;\">\n",
       "      <th></th>\n",
       "      <th>身長</th>\n",
       "      <th>年齢</th>\n",
       "      <th>体重</th>\n",
       "      <th>手長</th>\n",
       "      <th>手首</th>\n",
       "    </tr>\n",
       "  </thead>\n",
       "  <tbody>\n",
       "    <tr>\n",
       "      <th>身長</th>\n",
       "      <td>1.000000</td>\n",
       "      <td>0.961929</td>\n",
       "      <td>0.848933</td>\n",
       "      <td>0.921505</td>\n",
       "      <td>-0.054059</td>\n",
       "    </tr>\n",
       "    <tr>\n",
       "      <th>年齢</th>\n",
       "      <td>0.961929</td>\n",
       "      <td>1.000000</td>\n",
       "      <td>0.800781</td>\n",
       "      <td>0.884119</td>\n",
       "      <td>-0.035522</td>\n",
       "    </tr>\n",
       "    <tr>\n",
       "      <th>体重</th>\n",
       "      <td>0.848933</td>\n",
       "      <td>0.800781</td>\n",
       "      <td>1.000000</td>\n",
       "      <td>0.747222</td>\n",
       "      <td>0.220878</td>\n",
       "    </tr>\n",
       "    <tr>\n",
       "      <th>手長</th>\n",
       "      <td>0.921505</td>\n",
       "      <td>0.884119</td>\n",
       "      <td>0.747222</td>\n",
       "      <td>1.000000</td>\n",
       "      <td>-0.074436</td>\n",
       "    </tr>\n",
       "    <tr>\n",
       "      <th>手首</th>\n",
       "      <td>-0.054059</td>\n",
       "      <td>-0.035522</td>\n",
       "      <td>0.220878</td>\n",
       "      <td>-0.074436</td>\n",
       "      <td>1.000000</td>\n",
       "    </tr>\n",
       "  </tbody>\n",
       "</table>\n",
       "</div>"
      ],
      "text/plain": [
       "          身長        年齢        体重        手長        手首\n",
       "身長  1.000000  0.961929  0.848933  0.921505 -0.054059\n",
       "年齢  0.961929  1.000000  0.800781  0.884119 -0.035522\n",
       "体重  0.848933  0.800781  1.000000  0.747222  0.220878\n",
       "手長  0.921505  0.884119  0.747222  1.000000 -0.074436\n",
       "手首 -0.054059 -0.035522  0.220878 -0.074436  1.000000"
      ]
     },
     "execution_count": 31,
     "metadata": {},
     "output_type": "execute_result"
    }
   ],
   "source": [
    "#相関行列を求める\n",
    "childrenm.corr()"
   ]
  },
  {
   "cell_type": "code",
   "execution_count": 32,
   "metadata": {},
   "outputs": [
    {
     "name": "stderr",
     "output_type": "stream",
     "text": [
      "C:\\Users\\kengo\\Anaconda3\\lib\\site-packages\\statsmodels\\compat\\pandas.py:56: FutureWarning: The pandas.core.datetools module is deprecated and will be removed in a future version. Please use the pandas.tseries module instead.\n",
      "  from pandas.core import datetools\n",
      "C:\\Users\\kengo\\Anaconda3\\lib\\site-packages\\scipy\\stats\\stats.py:1334: UserWarning: kurtosistest only valid for n>=20 ... continuing anyway, n=17\n",
      "  \"anyway, n=%i\" % int(n))\n"
     ]
    },
    {
     "data": {
      "text/html": [
       "<table class=\"simpletable\">\n",
       "<caption>OLS Regression Results</caption>\n",
       "<tr>\n",
       "  <th>Dep. Variable:</th>           <td>身長</td>        <th>  R-squared:         </th> <td>   0.964</td>\n",
       "</tr>\n",
       "<tr>\n",
       "  <th>Model:</th>                   <td>OLS</td>       <th>  Adj. R-squared:    </th> <td>   0.953</td>\n",
       "</tr>\n",
       "<tr>\n",
       "  <th>Method:</th>             <td>Least Squares</td>  <th>  F-statistic:       </th> <td>   81.27</td>\n",
       "</tr>\n",
       "<tr>\n",
       "  <th>Date:</th>             <td>Sun, 14 Jul 2019</td> <th>  Prob (F-statistic):</th> <td>1.38e-08</td>\n",
       "</tr>\n",
       "<tr>\n",
       "  <th>Time:</th>                 <td>06:36:40</td>     <th>  Log-Likelihood:    </th> <td> -70.268</td>\n",
       "</tr>\n",
       "<tr>\n",
       "  <th>No. Observations:</th>      <td>    17</td>      <th>  AIC:               </th> <td>   150.5</td>\n",
       "</tr>\n",
       "<tr>\n",
       "  <th>Df Residuals:</th>          <td>    12</td>      <th>  BIC:               </th> <td>   154.7</td>\n",
       "</tr>\n",
       "<tr>\n",
       "  <th>Df Model:</th>              <td>     4</td>      <th>                     </th>     <td> </td>   \n",
       "</tr>\n",
       "<tr>\n",
       "  <th>Covariance Type:</th>      <td>nonrobust</td>    <th>                     </th>     <td> </td>   \n",
       "</tr>\n",
       "</table>\n",
       "<table class=\"simpletable\">\n",
       "<tr>\n",
       "    <td></td>       <th>coef</th>     <th>std err</th>      <th>t</th>      <th>P>|t|</th>  <th>[0.025</th>    <th>0.975]</th>  \n",
       "</tr>\n",
       "<tr>\n",
       "  <th>const</th> <td>  416.5500</td> <td>   95.187</td> <td>    4.376</td> <td> 0.001</td> <td>  209.155</td> <td>  623.945</td>\n",
       "</tr>\n",
       "<tr>\n",
       "  <th>年齢</th>    <td>   50.1660</td> <td>   12.468</td> <td>    4.024</td> <td> 0.002</td> <td>   23.000</td> <td>   77.331</td>\n",
       "</tr>\n",
       "<tr>\n",
       "  <th>体重</th>    <td>    6.3704</td> <td>    2.748</td> <td>    2.318</td> <td> 0.039</td> <td>    0.383</td> <td>   12.358</td>\n",
       "</tr>\n",
       "<tr>\n",
       "  <th>手長</th>    <td>    2.6463</td> <td>    1.172</td> <td>    2.258</td> <td> 0.043</td> <td>    0.093</td> <td>    5.200</td>\n",
       "</tr>\n",
       "<tr>\n",
       "  <th>手首</th>    <td>   -0.4014</td> <td>    0.362</td> <td>   -1.107</td> <td> 0.290</td> <td>   -1.191</td> <td>    0.388</td>\n",
       "</tr>\n",
       "</table>\n",
       "<table class=\"simpletable\">\n",
       "<tr>\n",
       "  <th>Omnibus:</th>       <td> 0.584</td> <th>  Durbin-Watson:     </th> <td>   2.176</td>\n",
       "</tr>\n",
       "<tr>\n",
       "  <th>Prob(Omnibus):</th> <td> 0.747</td> <th>  Jarque-Bera (JB):  </th> <td>   0.600</td>\n",
       "</tr>\n",
       "<tr>\n",
       "  <th>Skew:</th>          <td> 0.120</td> <th>  Prob(JB):          </th> <td>   0.741</td>\n",
       "</tr>\n",
       "<tr>\n",
       "  <th>Kurtosis:</th>      <td> 2.111</td> <th>  Cond. No.          </th> <td>2.50e+03</td>\n",
       "</tr>\n",
       "</table>"
      ],
      "text/plain": [
       "<class 'statsmodels.iolib.summary.Summary'>\n",
       "\"\"\"\n",
       "                            OLS Regression Results                            \n",
       "==============================================================================\n",
       "Dep. Variable:                     身長   R-squared:                       0.964\n",
       "Model:                            OLS   Adj. R-squared:                  0.953\n",
       "Method:                 Least Squares   F-statistic:                     81.27\n",
       "Date:                Sun, 14 Jul 2019   Prob (F-statistic):           1.38e-08\n",
       "Time:                        06:36:40   Log-Likelihood:                -70.268\n",
       "No. Observations:                  17   AIC:                             150.5\n",
       "Df Residuals:                      12   BIC:                             154.7\n",
       "Df Model:                           4                                         \n",
       "Covariance Type:            nonrobust                                         \n",
       "==============================================================================\n",
       "                 coef    std err          t      P>|t|      [0.025      0.975]\n",
       "------------------------------------------------------------------------------\n",
       "const        416.5500     95.187      4.376      0.001     209.155     623.945\n",
       "年齢            50.1660     12.468      4.024      0.002      23.000      77.331\n",
       "体重             6.3704      2.748      2.318      0.039       0.383      12.358\n",
       "手長             2.6463      1.172      2.258      0.043       0.093       5.200\n",
       "手首            -0.4014      0.362     -1.107      0.290      -1.191       0.388\n",
       "==============================================================================\n",
       "Omnibus:                        0.584   Durbin-Watson:                   2.176\n",
       "Prob(Omnibus):                  0.747   Jarque-Bera (JB):                0.600\n",
       "Skew:                           0.120   Prob(JB):                        0.741\n",
       "Kurtosis:                       2.111   Cond. No.                     2.50e+03\n",
       "==============================================================================\n",
       "\n",
       "Warnings:\n",
       "[1] Standard Errors assume that the covariance matrix of the errors is correctly specified.\n",
       "[2] The condition number is large, 2.5e+03. This might indicate that there are\n",
       "strong multicollinearity or other numerical problems.\n",
       "\"\"\""
      ]
     },
     "execution_count": 32,
     "metadata": {},
     "output_type": "execute_result"
    }
   ],
   "source": [
    "#説明変数の抽出、身長以外を説明変数として利用\n",
    "X = childrenm.drop(\"身長\",1) \n",
    "#目的変数の抽出\n",
    "Y = childrenm[\"身長\"] \n",
    "\n",
    "#ライブラリの導入\n",
    "#エラーになる場合、anaconda promptからpip install statsmodels\n",
    "import statsmodels.api as smf\n",
    "#定数表示\n",
    "X1=smf.add_constant(X) \n",
    "#OLS(最小二乗法)でモデル作成\n",
    "model1 = smf.OLS(Y,X1)\n",
    "#model.fitで実際の計算\n",
    "result = model1.fit()\n",
    "#結果表示\n",
    "result.summary()\n",
    "\n",
    "\n",
    "\n",
    "\n"
   ]
  },
  {
   "cell_type": "code",
   "execution_count": null,
   "metadata": {
    "collapsed": true
   },
   "outputs": [],
   "source": []
  },
  {
   "cell_type": "code",
   "execution_count": null,
   "metadata": {
    "collapsed": true
   },
   "outputs": [],
   "source": []
  },
  {
   "cell_type": "code",
   "execution_count": null,
   "metadata": {
    "collapsed": true
   },
   "outputs": [],
   "source": [
    "        "
   ]
  },
  {
   "cell_type": "code",
   "execution_count": null,
   "metadata": {
    "collapsed": true
   },
   "outputs": [],
   "source": [
    "    "
   ]
  },
  {
   "cell_type": "code",
   "execution_count": null,
   "metadata": {
    "collapsed": true
   },
   "outputs": [],
   "source": []
  },
  {
   "cell_type": "code",
   "execution_count": null,
   "metadata": {
    "collapsed": true
   },
   "outputs": [],
   "source": []
  },
  {
   "cell_type": "code",
   "execution_count": null,
   "metadata": {
    "collapsed": true
   },
   "outputs": [],
   "source": []
  },
  {
   "cell_type": "code",
   "execution_count": null,
   "metadata": {
    "collapsed": true
   },
   "outputs": [],
   "source": []
  }
 ],
 "metadata": {
  "celltoolbar": "Raw Cell Format",
  "kernelspec": {
   "display_name": "Python 3",
   "language": "python",
   "name": "python3"
  },
  "language_info": {
   "codemirror_mode": {
    "name": "ipython",
    "version": 3
   },
   "file_extension": ".py",
   "mimetype": "text/x-python",
   "name": "python",
   "nbconvert_exporter": "python",
   "pygments_lexer": "ipython3",
   "version": "3.6.1"
  }
 },
 "nbformat": 4,
 "nbformat_minor": 2
}
